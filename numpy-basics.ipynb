{
 "cells": [
  {
   "cell_type": "code",
   "execution_count": 3,
   "id": "2425a24e",
   "metadata": {},
   "outputs": [],
   "source": [
    "import numpy as np"
   ]
  },
  {
   "cell_type": "code",
   "execution_count": 11,
   "id": "0f217b50",
   "metadata": {},
   "outputs": [
    {
     "data": {
      "text/plain": [
       "array([False,  True, False, False])"
      ]
     },
     "execution_count": 11,
     "metadata": {},
     "output_type": "execute_result"
    }
   ],
   "source": [
    "y = np.array([0.4,0.6,0.1,0.2])\n",
    "y = y>0.5\n",
    "y"
   ]
  },
  {
   "cell_type": "code",
   "execution_count": 13,
   "id": "51e9af4f",
   "metadata": {},
   "outputs": [
    {
     "data": {
      "text/plain": [
       "array([1, 0, 1, 1])"
      ]
     },
     "execution_count": 13,
     "metadata": {},
     "output_type": "execute_result"
    }
   ],
   "source": [
    "np.abs(1-y) #when we subtract 1, it converts it into numbers then sunbtracts"
   ]
  },
  {
   "cell_type": "code",
   "execution_count": 10,
   "id": "4d501b41",
   "metadata": {},
   "outputs": [
    {
     "data": {
      "text/plain": [
       "array([0, 1, 0, 0])"
      ]
     },
     "execution_count": 10,
     "metadata": {},
     "output_type": "execute_result"
    }
   ],
   "source": [
    "#or do this directly\n",
    "y = y*1 #to convert it into zeros and ones\n",
    "y"
   ]
  },
  {
   "cell_type": "code",
   "execution_count": null,
   "id": "f091d7c6",
   "metadata": {},
   "outputs": [],
   "source": []
  },
  {
   "cell_type": "code",
   "execution_count": 9,
   "id": "27bba1e8",
   "metadata": {},
   "outputs": [
    {
     "data": {
      "text/plain": [
       "1"
      ]
     },
     "execution_count": 9,
     "metadata": {},
     "output_type": "execute_result"
    }
   ],
   "source": [
    "y = [[1,2,3,4]]\n",
    "\n",
    "len(y)"
   ]
  },
  {
   "cell_type": "code",
   "execution_count": 10,
   "id": "bb42732e",
   "metadata": {},
   "outputs": [
    {
     "data": {
      "text/plain": [
       "list"
      ]
     },
     "execution_count": 10,
     "metadata": {},
     "output_type": "execute_result"
    }
   ],
   "source": [
    "type(y)"
   ]
  },
  {
   "cell_type": "code",
   "execution_count": 11,
   "id": "002cf9d1",
   "metadata": {},
   "outputs": [
    {
     "data": {
      "text/plain": [
       "array([  1,   2,   3,   4,   5,   6,   7,   8,   9,  10,  11,  12,  13,\n",
       "        14,  15,  16,  17,  18,  19,  20,  21,  22,  23,  24,  25,  26,\n",
       "        27,  28,  29,  30,  31,  32,  33,  34,  35,  36,  37,  38,  39,\n",
       "        40,  41,  42,  43,  44,  45,  46,  47,  48,  49,  50,  51,  52,\n",
       "        53,  54,  55,  56,  57,  58,  59,  60,  61,  62,  63,  64,  65,\n",
       "        66,  67,  68,  69,  70,  71,  72,  73,  74,  75,  76,  77,  78,\n",
       "        79,  80,  81,  82,  83,  84,  85,  86,  87,  88,  89,  90,  91,\n",
       "        92,  93,  94,  95,  96,  97,  98,  99, 100])"
      ]
     },
     "execution_count": 11,
     "metadata": {},
     "output_type": "execute_result"
    }
   ],
   "source": [
    "a= np.arange(1,101,1)\n",
    "a"
   ]
  },
  {
   "cell_type": "code",
   "execution_count": 23,
   "id": "1d5e777e",
   "metadata": {},
   "outputs": [
    {
     "data": {
      "text/plain": [
       "(100,)"
      ]
     },
     "execution_count": 23,
     "metadata": {},
     "output_type": "execute_result"
    }
   ],
   "source": [
    "a.shape\n",
    "\n",
    "#so for reshape, since this one has a dimension of 100, the two parameter in reshape multiplied should be 100\n",
    "so 20 *5 or like that"
   ]
  },
  {
   "cell_type": "code",
   "execution_count": 18,
   "id": "89e4ac6c",
   "metadata": {},
   "outputs": [
    {
     "data": {
      "text/plain": [
       "array([[  1,   2,   3,   4,   5],\n",
       "       [  6,   7,   8,   9,  10],\n",
       "       [ 11,  12,  13,  14,  15],\n",
       "       [ 16,  17,  18,  19,  20],\n",
       "       [ 21,  22,  23,  24,  25],\n",
       "       [ 26,  27,  28,  29,  30],\n",
       "       [ 31,  32,  33,  34,  35],\n",
       "       [ 36,  37,  38,  39,  40],\n",
       "       [ 41,  42,  43,  44,  45],\n",
       "       [ 46,  47,  48,  49,  50],\n",
       "       [ 51,  52,  53,  54,  55],\n",
       "       [ 56,  57,  58,  59,  60],\n",
       "       [ 61,  62,  63,  64,  65],\n",
       "       [ 66,  67,  68,  69,  70],\n",
       "       [ 71,  72,  73,  74,  75],\n",
       "       [ 76,  77,  78,  79,  80],\n",
       "       [ 81,  82,  83,  84,  85],\n",
       "       [ 86,  87,  88,  89,  90],\n",
       "       [ 91,  92,  93,  94,  95],\n",
       "       [ 96,  97,  98,  99, 100]])"
      ]
     },
     "execution_count": 18,
     "metadata": {},
     "output_type": "execute_result"
    }
   ],
   "source": [
    "a1=a.reshape(20,5)\n",
    "a1"
   ]
  },
  {
   "cell_type": "code",
   "execution_count": 19,
   "id": "4c15f178",
   "metadata": {},
   "outputs": [
    {
     "data": {
      "text/plain": [
       "(20, 5)"
      ]
     },
     "execution_count": 19,
     "metadata": {},
     "output_type": "execute_result"
    }
   ],
   "source": [
    "a1.shape"
   ]
  },
  {
   "cell_type": "code",
   "execution_count": 21,
   "id": "d97b364c",
   "metadata": {},
   "outputs": [
    {
     "data": {
      "text/plain": [
       "array([  1,   2,   3,   4,   5,   6,   7,   8,   9,  10,  11,  12,  13,\n",
       "        14,  15,  16,  17,  18,  19,  20,  21,  22,  23,  24,  25,  26,\n",
       "        27,  28,  29,  30,  31,  32,  33,  34,  35,  36,  37,  38,  39,\n",
       "        40,  41,  42,  43,  44,  45,  46,  47,  48,  49,  50,  51,  52,\n",
       "        53,  54,  55,  56,  57,  58,  59,  60,  61,  62,  63,  64,  65,\n",
       "        66,  67,  68,  69,  70,  71,  72,  73,  74,  75,  76,  77,  78,\n",
       "        79,  80,  81,  82,  83,  84,  85,  86,  87,  88,  89,  90,  91,\n",
       "        92,  93,  94,  95,  96,  97,  98,  99, 100])"
      ]
     },
     "execution_count": 21,
     "metadata": {},
     "output_type": "execute_result"
    }
   ],
   "source": [
    "a2= a1.flatten()\n",
    "a2"
   ]
  },
  {
   "cell_type": "code",
   "execution_count": 22,
   "id": "e89f1f96",
   "metadata": {},
   "outputs": [
    {
     "data": {
      "text/plain": [
       "(100,)"
      ]
     },
     "execution_count": 22,
     "metadata": {},
     "output_type": "execute_result"
    }
   ],
   "source": [
    "a2.shape"
   ]
  },
  {
   "cell_type": "code",
   "execution_count": 5,
   "id": "0ca0495e",
   "metadata": {},
   "outputs": [
    {
     "data": {
      "text/plain": [
       "array([[  1],\n",
       "       [  2],\n",
       "       [  3],\n",
       "       [  4],\n",
       "       [  5],\n",
       "       [  6],\n",
       "       [  7],\n",
       "       [  8],\n",
       "       [  9],\n",
       "       [ 10],\n",
       "       [ 11],\n",
       "       [ 12],\n",
       "       [ 13],\n",
       "       [ 14],\n",
       "       [ 15],\n",
       "       [ 16],\n",
       "       [ 17],\n",
       "       [ 18],\n",
       "       [ 19],\n",
       "       [ 20],\n",
       "       [ 21],\n",
       "       [ 22],\n",
       "       [ 23],\n",
       "       [ 24],\n",
       "       [ 25],\n",
       "       [ 26],\n",
       "       [ 27],\n",
       "       [ 28],\n",
       "       [ 29],\n",
       "       [ 30],\n",
       "       [ 31],\n",
       "       [ 32],\n",
       "       [ 33],\n",
       "       [ 34],\n",
       "       [ 35],\n",
       "       [ 36],\n",
       "       [ 37],\n",
       "       [ 38],\n",
       "       [ 39],\n",
       "       [ 40],\n",
       "       [ 41],\n",
       "       [ 42],\n",
       "       [ 43],\n",
       "       [ 44],\n",
       "       [ 45],\n",
       "       [ 46],\n",
       "       [ 47],\n",
       "       [ 48],\n",
       "       [ 49],\n",
       "       [ 50],\n",
       "       [ 51],\n",
       "       [ 52],\n",
       "       [ 53],\n",
       "       [ 54],\n",
       "       [ 55],\n",
       "       [ 56],\n",
       "       [ 57],\n",
       "       [ 58],\n",
       "       [ 59],\n",
       "       [ 60],\n",
       "       [ 61],\n",
       "       [ 62],\n",
       "       [ 63],\n",
       "       [ 64],\n",
       "       [ 65],\n",
       "       [ 66],\n",
       "       [ 67],\n",
       "       [ 68],\n",
       "       [ 69],\n",
       "       [ 70],\n",
       "       [ 71],\n",
       "       [ 72],\n",
       "       [ 73],\n",
       "       [ 74],\n",
       "       [ 75],\n",
       "       [ 76],\n",
       "       [ 77],\n",
       "       [ 78],\n",
       "       [ 79],\n",
       "       [ 80],\n",
       "       [ 81],\n",
       "       [ 82],\n",
       "       [ 83],\n",
       "       [ 84],\n",
       "       [ 85],\n",
       "       [ 86],\n",
       "       [ 87],\n",
       "       [ 88],\n",
       "       [ 89],\n",
       "       [ 90],\n",
       "       [ 91],\n",
       "       [ 92],\n",
       "       [ 93],\n",
       "       [ 94],\n",
       "       [ 95],\n",
       "       [ 96],\n",
       "       [ 97],\n",
       "       [ 98],\n",
       "       [ 99],\n",
       "       [100]])"
      ]
     },
     "execution_count": 5,
     "metadata": {},
     "output_type": "execute_result"
    }
   ],
   "source": [
    "b= np.arange(1,101,1).reshape(-1,1)\n",
    "b"
   ]
  },
  {
   "cell_type": "code",
   "execution_count": 24,
   "id": "a0ed3b1b",
   "metadata": {},
   "outputs": [
    {
     "ename": "TypeError",
     "evalue": "can't multiply sequence by non-int of type 'list'",
     "output_type": "error",
     "traceback": [
      "\u001b[1;31m---------------------------------------------------------------------------\u001b[0m",
      "\u001b[1;31mTypeError\u001b[0m                                 Traceback (most recent call last)",
      "\u001b[1;32m~\\AppData\\Local\\Temp\\ipykernel_17356\\1079581220.py\u001b[0m in \u001b[0;36m<module>\u001b[1;34m\u001b[0m\n\u001b[0;32m      3\u001b[0m \u001b[0mb\u001b[0m \u001b[1;33m=\u001b[0m \u001b[1;33m[\u001b[0m\u001b[1;33m[\u001b[0m\u001b[1;36m4\u001b[0m\u001b[1;33m,\u001b[0m \u001b[1;36m5\u001b[0m\u001b[1;33m]\u001b[0m\u001b[1;33m,\u001b[0m \u001b[1;33m[\u001b[0m\u001b[1;36m12\u001b[0m\u001b[1;33m,\u001b[0m \u001b[1;36m7\u001b[0m\u001b[1;33m]\u001b[0m\u001b[1;33m]\u001b[0m\u001b[1;33m\u001b[0m\u001b[0m\n\u001b[0;32m      4\u001b[0m \u001b[1;33m\u001b[0m\u001b[0m\n\u001b[1;32m----> 5\u001b[1;33m \u001b[0ma\u001b[0m \u001b[1;33m*\u001b[0m \u001b[0mb\u001b[0m\u001b[1;33m\u001b[0m\u001b[0m\n\u001b[0m",
      "\u001b[1;31mTypeError\u001b[0m: can't multiply sequence by non-int of type 'list'"
     ]
    }
   ],
   "source": [
    "#python does not support matrix multiplication, we can use numpy to do it\n",
    "a = [[2, 3], [1, 4]]\n",
    "b = [[4, 5], [12, 7]]\n",
    "\n",
    "a * b"
   ]
  },
  {
   "cell_type": "code",
   "execution_count": 25,
   "id": "056734d1",
   "metadata": {},
   "outputs": [
    {
     "data": {
      "text/plain": [
       "array([[ 8, 15],\n",
       "       [12, 28]])"
      ]
     },
     "execution_count": 25,
     "metadata": {},
     "output_type": "execute_result"
    }
   ],
   "source": [
    "#using multiply to multiply matrices\n",
    "c=np.multiply(a,b)   #here 8: 2*4\n",
    "c"
   ]
  },
  {
   "cell_type": "code",
   "execution_count": 26,
   "id": "3f3052b4",
   "metadata": {},
   "outputs": [
    {
     "data": {
      "text/plain": [
       "array([[44, 31],\n",
       "       [52, 33]])"
      ]
     },
     "execution_count": 26,
     "metadata": {},
     "output_type": "execute_result"
    }
   ],
   "source": [
    "#dot product\n",
    "c1=np.dot(a,b)\n",
    "c1"
   ]
  },
  {
   "cell_type": "code",
   "execution_count": 27,
   "id": "30676f88",
   "metadata": {},
   "outputs": [
    {
     "data": {
      "text/plain": [
       "-159.9999999999998"
      ]
     },
     "execution_count": 27,
     "metadata": {},
     "output_type": "execute_result"
    }
   ],
   "source": [
    "#computing the determinant of an array\n",
    "det = np.linalg.det(c1)\n",
    "det"
   ]
  },
  {
   "cell_type": "code",
   "execution_count": 28,
   "id": "201f701d",
   "metadata": {},
   "outputs": [
    {
     "data": {
      "text/plain": [
       "81.79242018671412"
      ]
     },
     "execution_count": 28,
     "metadata": {},
     "output_type": "execute_result"
    }
   ],
   "source": [
    "#finding the matrix norm\n",
    "norm=np.linalg.norm(c1)\n",
    "norm"
   ]
  },
  {
   "cell_type": "code",
   "execution_count": 29,
   "id": "59fdbf1b",
   "metadata": {},
   "outputs": [
    {
     "data": {
      "text/plain": [
       "2"
      ]
     },
     "execution_count": 29,
     "metadata": {},
     "output_type": "execute_result"
    }
   ],
   "source": [
    "#The rank is how many of the rows are \"unique\": not made of other rows. (Same for columns.)\n",
    "#https://www.mathsisfun.com/algebra/matrix-rank.html\n",
    "rank = np.linalg.matrix_rank(c1)\n",
    "rank"
   ]
  },
  {
   "cell_type": "code",
   "execution_count": 30,
   "id": "5d13631f",
   "metadata": {},
   "outputs": [
    {
     "data": {
      "text/plain": [
       "40.0"
      ]
     },
     "execution_count": 30,
     "metadata": {},
     "output_type": "execute_result"
    }
   ],
   "source": [
    "#the mean\n",
    "mean = np.mean(c1)\n",
    "mean"
   ]
  },
  {
   "cell_type": "code",
   "execution_count": 31,
   "id": "582e00e3",
   "metadata": {},
   "outputs": [
    {
     "data": {
      "text/plain": [
       "8.514693182963201"
      ]
     },
     "execution_count": 31,
     "metadata": {},
     "output_type": "execute_result"
    }
   ],
   "source": [
    "#standard deviation\n",
    "std= np.std(c1)\n",
    "std"
   ]
  },
  {
   "cell_type": "code",
   "execution_count": 32,
   "id": "c8a4f218",
   "metadata": {},
   "outputs": [
    {
     "data": {
      "text/plain": [
       "72.5"
      ]
     },
     "execution_count": 32,
     "metadata": {},
     "output_type": "execute_result"
    }
   ],
   "source": [
    "#variance\n",
    "var= np.var(c1)\n",
    "var"
   ]
  },
  {
   "cell_type": "code",
   "execution_count": 33,
   "id": "5b7384ae",
   "metadata": {},
   "outputs": [],
   "source": [
    "#inner product using numpy:\n",
    "vec1 = np.array([1,3,4,5])\n",
    "vec2 = np.array([2,3,1,2])"
   ]
  },
  {
   "cell_type": "code",
   "execution_count": 34,
   "id": "f329d25c",
   "metadata": {},
   "outputs": [
    {
     "data": {
      "text/plain": [
       "25"
      ]
     },
     "execution_count": 34,
     "metadata": {},
     "output_type": "execute_result"
    }
   ],
   "source": [
    "#inner product using numpy:\n",
    "np.inner(vec1, vec2)"
   ]
  },
  {
   "cell_type": "code",
   "execution_count": 35,
   "id": "5bc10638",
   "metadata": {},
   "outputs": [
    {
     "data": {
      "text/plain": [
       "array([[ 2,  3,  1,  2],\n",
       "       [ 6,  9,  3,  6],\n",
       "       [ 8, 12,  4,  8],\n",
       "       [10, 15,  5, 10]])"
      ]
     },
     "execution_count": 35,
     "metadata": {},
     "output_type": "execute_result"
    }
   ],
   "source": [
    "#outer product\n",
    "np.outer(vec1, vec2)"
   ]
  },
  {
   "cell_type": "code",
   "execution_count": 36,
   "id": "b26480fc",
   "metadata": {},
   "outputs": [
    {
     "data": {
      "text/plain": [
       "array([0., 2.])"
      ]
     },
     "execution_count": 36,
     "metadata": {},
     "output_type": "execute_result"
    }
   ],
   "source": [
    "#numpy.around :Evenly round to the given number of decimals\n",
    "#numpy.around(a, decimals=0, out=None)[source]\n",
    "np.around([0.37, 1.64])\n"
   ]
  },
  {
   "cell_type": "code",
   "execution_count": 37,
   "id": "ec87862e",
   "metadata": {},
   "outputs": [
    {
     "data": {
      "text/plain": [
       "array([0., 2.])"
      ]
     },
     "execution_count": 37,
     "metadata": {},
     "output_type": "execute_result"
    }
   ],
   "source": [
    "#numpy.round:Return a with each element rounded to the given number of decimals.\n",
    "np.round([0.37, 1.64])"
   ]
  },
  {
   "cell_type": "code",
   "execution_count": 38,
   "id": "a175b4d4",
   "metadata": {},
   "outputs": [
    {
     "data": {
      "text/plain": [
       "array([1, 2, 3])"
      ]
     },
     "execution_count": 38,
     "metadata": {},
     "output_type": "execute_result"
    }
   ],
   "source": [
    "#numpy.array : create a numpy array\n",
    "a0= np.array([1, 2, 3])\n",
    "a0"
   ]
  },
  {
   "cell_type": "code",
   "execution_count": 39,
   "id": "0631c275",
   "metadata": {},
   "outputs": [
    {
     "name": "stdout",
     "output_type": "stream",
     "text": [
      "<class 'numpy.ndarray'>\n"
     ]
    }
   ],
   "source": [
    "print(type(a0))"
   ]
  },
  {
   "cell_type": "code",
   "execution_count": 40,
   "id": "7e2e6acb",
   "metadata": {},
   "outputs": [
    {
     "name": "stdout",
     "output_type": "stream",
     "text": [
      "<class 'list'>\n",
      "<class 'numpy.ndarray'>\n"
     ]
    }
   ],
   "source": [
    "#numpy.asarray:Convert the input to a numpy array.\n",
    "a = [1, 2]\n",
    "print(type(a))\n",
    "a=np.asarray(a)\n",
    "print(type(a))"
   ]
  },
  {
   "cell_type": "code",
   "execution_count": 41,
   "id": "7ccf8226",
   "metadata": {},
   "outputs": [
    {
     "data": {
      "text/plain": [
       "9"
      ]
     },
     "execution_count": 41,
     "metadata": {},
     "output_type": "execute_result"
    }
   ],
   "source": [
    "#numpy slicing\n",
    "x = np.array([[2,0,2], [9,1,4], [3,4,10]])\n",
    "x[1,0]"
   ]
  },
  {
   "cell_type": "code",
   "execution_count": 42,
   "id": "b7ebcc1c",
   "metadata": {},
   "outputs": [],
   "source": [
    "a= np.array([[2,4,6],[8,10,12]],dtype= int) #you can replace with float"
   ]
  },
  {
   "cell_type": "code",
   "execution_count": 43,
   "id": "34a6260e",
   "metadata": {},
   "outputs": [
    {
     "name": "stdout",
     "output_type": "stream",
     "text": [
      "<class 'list'>\n"
     ]
    }
   ],
   "source": [
    "#how to convert numpy array to a list\n",
    "arr = a.tolist()\n",
    "print(type(arr))"
   ]
  },
  {
   "cell_type": "code",
   "execution_count": 44,
   "id": "e0612762",
   "metadata": {},
   "outputs": [
    {
     "data": {
      "text/plain": [
       "array([[ 2,  4,  6],\n",
       "       [ 8, 10, 12]])"
      ]
     },
     "execution_count": 44,
     "metadata": {},
     "output_type": "execute_result"
    }
   ],
   "source": [
    "a"
   ]
  },
  {
   "cell_type": "code",
   "execution_count": 45,
   "id": "aef0311e",
   "metadata": {},
   "outputs": [
    {
     "data": {
      "text/plain": [
       "(2, 3)"
      ]
     },
     "execution_count": 45,
     "metadata": {},
     "output_type": "execute_result"
    }
   ],
   "source": [
    "a.shape"
   ]
  },
  {
   "cell_type": "markdown",
   "id": "a77c6f52",
   "metadata": {},
   "source": [
    "for reshape: if the numpy list has 6 items,your total in the pracets should add up to 6"
   ]
  },
  {
   "cell_type": "code",
   "execution_count": 46,
   "id": "a2157c6a",
   "metadata": {},
   "outputs": [
    {
     "data": {
      "text/plain": [
       "array([[ 2,  4],\n",
       "       [ 6,  8],\n",
       "       [10, 12]])"
      ]
     },
     "execution_count": 46,
     "metadata": {},
     "output_type": "execute_result"
    }
   ],
   "source": [
    "a.reshape(3,2)"
   ]
  },
  {
   "cell_type": "code",
   "execution_count": 47,
   "id": "534b311c",
   "metadata": {},
   "outputs": [
    {
     "data": {
      "text/plain": [
       "array([ 2,  4,  6,  8, 10, 12])"
      ]
     },
     "execution_count": 47,
     "metadata": {},
     "output_type": "execute_result"
    }
   ],
   "source": [
    "a.reshape(6) #1 row and 6 columns"
   ]
  },
  {
   "cell_type": "markdown",
   "id": "e9153f26",
   "metadata": {},
   "source": [
    "it is similar to range function in python"
   ]
  },
  {
   "cell_type": "code",
   "execution_count": 48,
   "id": "a0a89ce1",
   "metadata": {},
   "outputs": [
    {
     "data": {
      "text/plain": [
       "array([1, 2, 3, 4, 5, 6, 7, 8, 9])"
      ]
     },
     "execution_count": 48,
     "metadata": {},
     "output_type": "execute_result"
    }
   ],
   "source": [
    "np.arange(1,10)"
   ]
  },
  {
   "cell_type": "code",
   "execution_count": 49,
   "id": "50b13da4",
   "metadata": {},
   "outputs": [
    {
     "data": {
      "text/plain": [
       "array([1, 3, 5, 7, 9])"
      ]
     },
     "execution_count": 49,
     "metadata": {},
     "output_type": "execute_result"
    }
   ],
   "source": [
    "np.arange(1,10,2) #here 2: the step"
   ]
  },
  {
   "cell_type": "markdown",
   "id": "88845a66",
   "metadata": {},
   "source": [
    "linspace: similar to arange: but here 11 is not the step, it is the number of steps desired, so it will figure by itself the step needed"
   ]
  },
  {
   "cell_type": "code",
   "execution_count": 50,
   "id": "932aeac1",
   "metadata": {},
   "outputs": [
    {
     "data": {
      "text/plain": [
       "array([ 1.,  2.,  3.,  4.,  5.,  6.,  7.,  8.,  9., 10., 11.])"
      ]
     },
     "execution_count": 50,
     "metadata": {},
     "output_type": "execute_result"
    }
   ],
   "source": [
    "np.linspace(1,11,num=11)"
   ]
  },
  {
   "cell_type": "code",
   "execution_count": 51,
   "id": "3d4eaa6f",
   "metadata": {},
   "outputs": [
    {
     "data": {
      "text/plain": [
       "array([[ 2,  4,  6],\n",
       "       [ 8, 10, 12]])"
      ]
     },
     "execution_count": 51,
     "metadata": {},
     "output_type": "execute_result"
    }
   ],
   "source": [
    "a"
   ]
  },
  {
   "cell_type": "markdown",
   "id": "ee4d8ba1",
   "metadata": {},
   "source": [
    "a>1"
   ]
  },
  {
   "cell_type": "code",
   "execution_count": 52,
   "id": "08f7d5bc",
   "metadata": {},
   "outputs": [
    {
     "data": {
      "text/plain": [
       "array([[ True,  True,  True],\n",
       "       [ True,  True,  True]])"
      ]
     },
     "execution_count": 52,
     "metadata": {},
     "output_type": "execute_result"
    }
   ],
   "source": [
    "a>1"
   ]
  },
  {
   "cell_type": "code",
   "execution_count": 53,
   "id": "6dc93993",
   "metadata": {},
   "outputs": [
    {
     "data": {
      "text/plain": [
       "array([ 2,  4,  6,  8, 10, 12])"
      ]
     },
     "execution_count": 53,
     "metadata": {},
     "output_type": "execute_result"
    }
   ],
   "source": [
    "a[a>1]"
   ]
  },
  {
   "cell_type": "code",
   "execution_count": 54,
   "id": "67c4187a",
   "metadata": {},
   "outputs": [
    {
     "data": {
      "text/plain": [
       "7.0"
      ]
     },
     "execution_count": 54,
     "metadata": {},
     "output_type": "execute_result"
    }
   ],
   "source": [
    "np.mean(a)"
   ]
  },
  {
   "cell_type": "code",
   "execution_count": 55,
   "id": "58728c76",
   "metadata": {},
   "outputs": [
    {
     "data": {
      "text/plain": [
       "array([5., 7., 9.])"
      ]
     },
     "execution_count": 55,
     "metadata": {},
     "output_type": "execute_result"
    }
   ],
   "source": [
    "np.mean(a,axis=0) #axis = 0: column, axis = 1 rows"
   ]
  },
  {
   "cell_type": "code",
   "execution_count": 56,
   "id": "5ddcf860",
   "metadata": {},
   "outputs": [
    {
     "data": {
      "text/plain": [
       "array([ 4., 10.])"
      ]
     },
     "execution_count": 56,
     "metadata": {},
     "output_type": "execute_result"
    }
   ],
   "source": [
    "np.mean(a,axis=1)"
   ]
  },
  {
   "cell_type": "code",
   "execution_count": 57,
   "id": "42b8d501",
   "metadata": {},
   "outputs": [
    {
     "data": {
      "text/plain": [
       "3.415650255319866"
      ]
     },
     "execution_count": 57,
     "metadata": {},
     "output_type": "execute_result"
    }
   ],
   "source": [
    "np.std(a)"
   ]
  },
  {
   "attachments": {
    "concat%20vs%20stack.jpg": {
     "image/jpeg": "[encoded data removed]"
    }
   },
   "cell_type": "markdown",
   "id": "ac87ab24",
   "metadata": {},
   "source": [
    "![concat%20vs%20stack.jpg](attachment:concat%20vs%20stack.jpg)"
   ]
  },
  {
   "cell_type": "code",
   "execution_count": 58,
   "id": "fb066813",
   "metadata": {},
   "outputs": [
    {
     "data": {
      "text/plain": [
       "array([[ 2,  4,  6],\n",
       "       [ 8, 10, 12],\n",
       "       [ 4,  8, 12],\n",
       "       [16, 20, 24]])"
      ]
     },
     "execution_count": 58,
     "metadata": {},
     "output_type": "execute_result"
    }
   ],
   "source": [
    "#join numpy arrays\n",
    "np.concatenate([a,a*2])"
   ]
  },
  {
   "cell_type": "code",
   "execution_count": 59,
   "id": "3b9958b8",
   "metadata": {},
   "outputs": [
    {
     "data": {
      "text/plain": [
       "array([[ 2,  4,  6,  4,  8, 12],\n",
       "       [ 8, 10, 12, 16, 20, 24]])"
      ]
     },
     "execution_count": 59,
     "metadata": {},
     "output_type": "execute_result"
    }
   ],
   "source": [
    "#join numpy arrays\n",
    "np.concatenate([a,a*2],axis=1)"
   ]
  },
  {
   "cell_type": "code",
   "execution_count": 60,
   "id": "3430f295",
   "metadata": {},
   "outputs": [
    {
     "data": {
      "text/plain": [
       "array([[ 2,  4,  6],\n",
       "       [ 8, 10, 12],\n",
       "       [ 4,  8, 12],\n",
       "       [16, 20, 24]])"
      ]
     },
     "execution_count": 60,
     "metadata": {},
     "output_type": "execute_result"
    }
   ],
   "source": [
    "#join numpy arrays\n",
    "np.concatenate([a,a*2],axis=0)"
   ]
  },
  {
   "cell_type": "code",
   "execution_count": 111,
   "id": "bf540f3b",
   "metadata": {},
   "outputs": [
    {
     "data": {
      "text/plain": [
       "array([[1, 2, 3],\n",
       "       [4, 5, 6]])"
      ]
     },
     "execution_count": 111,
     "metadata": {},
     "output_type": "execute_result"
    }
   ],
   "source": [
    "# vStack: Stack arrays in sequence vertically (row wise)\n",
    "a = np.array([[1, 2, 3]])\n",
    "\n",
    "b = np.array([[4, 5, 6]])\n",
    "\n",
    "np.vstack((a,b))"
   ]
  },
  {
   "cell_type": "code",
   "execution_count": 112,
   "id": "8ba61b7e",
   "metadata": {},
   "outputs": [
    {
     "data": {
      "text/plain": [
       "array([[1, 2, 3],\n",
       "       [4, 5, 6]])"
      ]
     },
     "execution_count": 112,
     "metadata": {},
     "output_type": "execute_result"
    }
   ],
   "source": [
    "c1=np.concatenate([a,b],axis=0)\n",
    "c1"
   ]
  },
  {
   "cell_type": "code",
   "execution_count": 62,
   "id": "a6950600",
   "metadata": {},
   "outputs": [
    {
     "data": {
      "text/plain": [
       "array([1, 2, 3, 4, 5, 6])"
      ]
     },
     "execution_count": 62,
     "metadata": {},
     "output_type": "execute_result"
    }
   ],
   "source": [
    "#hstack:Stack arrays in sequence horizontally (column wise)\n",
    "a = np.array((1,2,3))\n",
    "\n",
    "b = np.array((4,5,6))\n",
    "\n",
    "np.hstack((a,b))"
   ]
  },
  {
   "cell_type": "code",
   "execution_count": 63,
   "id": "97392837",
   "metadata": {},
   "outputs": [
    {
     "data": {
      "text/plain": [
       "array([[[1, 2],\n",
       "        [2, 3],\n",
       "        [3, 4]]])"
      ]
     },
     "execution_count": 63,
     "metadata": {},
     "output_type": "execute_result"
    }
   ],
   "source": [
    "#dstack:Stack arrays in sequence depth wise (along third axis).\n",
    "a = np.array((1,2,3))\n",
    "\n",
    "b = np.array((2,3,4))\n",
    "\n",
    "np.dstack((a,b))"
   ]
  },
  {
   "cell_type": "code",
   "execution_count": 64,
   "id": "0f710dc3",
   "metadata": {},
   "outputs": [
    {
     "data": {
      "text/plain": [
       "array([0, 1, 2, 3, 4, 5, 6, 7, 8])"
      ]
     },
     "execution_count": 64,
     "metadata": {},
     "output_type": "execute_result"
    }
   ],
   "source": [
    "#arange: creates an array in the range between 0 and 9\n",
    "x = np.arange(9)\n",
    "x\n"
   ]
  },
  {
   "cell_type": "code",
   "execution_count": 65,
   "id": "8014c96a",
   "metadata": {},
   "outputs": [
    {
     "data": {
      "text/plain": [
       "[array([0, 1, 2]), array([3, 4, 5]), array([6, 7, 8])]"
      ]
     },
     "execution_count": 65,
     "metadata": {},
     "output_type": "execute_result"
    }
   ],
   "source": [
    "#split:Split an array into multiple sub-arrays as views into ary.\n",
    "#splits each 3 \n",
    "np.split(x, 3)"
   ]
  },
  {
   "cell_type": "markdown",
   "id": "f231d308",
   "metadata": {},
   "source": [
    "    If indices_or_sections is an integer, N, the array will be divided into N equal arrays along axis. If such a split is not possible, an error is raised.\n",
    "\n",
    "    If indices_or_sections is a 1-D array of sorted integers, the entries indicate where along axis the array is split. For example, [2, 3] would, for axis=0, result in\n",
    "            ary[:2]\n",
    "            ary[2:3]\n",
    "            ary[3:]\n",
    "    If an index exceeds the dimension of the array along axis, an empty sub-array is returned correspondingly.\n"
   ]
  },
  {
   "cell_type": "code",
   "execution_count": 66,
   "id": "6b258e2e",
   "metadata": {},
   "outputs": [
    {
     "data": {
      "text/plain": [
       "[array([0, 1, 2]),\n",
       " array([3, 4]),\n",
       " array([5]),\n",
       " array([6, 7]),\n",
       " array([], dtype=int32)]"
      ]
     },
     "execution_count": 66,
     "metadata": {},
     "output_type": "execute_result"
    }
   ],
   "source": [
    "x = np.arange(8)\n",
    "\n",
    "np.split(x, [3, 5, 6, 10]) #split at index 3, 5,6,10(here it is higher than the length so return empty array)"
   ]
  },
  {
   "cell_type": "code",
   "execution_count": 67,
   "id": "bec20eca",
   "metadata": {},
   "outputs": [
    {
     "data": {
      "text/plain": [
       "array([[[ 0.,  1.,  2.,  3.],\n",
       "        [ 4.,  5.,  6.,  7.]],\n",
       "\n",
       "       [[ 8.,  9., 10., 11.],\n",
       "        [12., 13., 14., 15.]]])"
      ]
     },
     "execution_count": 67,
     "metadata": {},
     "output_type": "execute_result"
    }
   ],
   "source": [
    "x = np.arange(16.0).reshape(2, 2, 4)\n",
    "\n",
    "x\n"
   ]
  },
  {
   "cell_type": "code",
   "execution_count": 68,
   "id": "fc788b98",
   "metadata": {},
   "outputs": [
    {
     "data": {
      "text/plain": [
       "[array([[[ 0.,  1.],\n",
       "         [ 4.,  5.]],\n",
       " \n",
       "        [[ 8.,  9.],\n",
       "         [12., 13.]]]),\n",
       " array([[[ 2.,  3.],\n",
       "         [ 6.,  7.]],\n",
       " \n",
       "        [[10., 11.],\n",
       "         [14., 15.]]])]"
      ]
     },
     "execution_count": 68,
     "metadata": {},
     "output_type": "execute_result"
    }
   ],
   "source": [
    "#dsplit:Split array into multiple sub-arrays along the 3rd axis (depth).\n",
    "np.dsplit(x, 2)"
   ]
  },
  {
   "cell_type": "code",
   "execution_count": 69,
   "id": "c7671bce",
   "metadata": {},
   "outputs": [
    {
     "data": {
      "text/plain": [
       "array([[ 0.,  1.,  2.,  3.],\n",
       "       [ 4.,  5.,  6.,  7.],\n",
       "       [ 8.,  9., 10., 11.],\n",
       "       [12., 13., 14., 15.]])"
      ]
     },
     "execution_count": 69,
     "metadata": {},
     "output_type": "execute_result"
    }
   ],
   "source": [
    "#hsplit: Split an array into multiple sub-arrays horizontally (column-wise).\n",
    "x = np.arange(16.0).reshape(4, 4)\n",
    "\n",
    "x"
   ]
  },
  {
   "cell_type": "code",
   "execution_count": 70,
   "id": "5f29aaea",
   "metadata": {},
   "outputs": [
    {
     "data": {
      "text/plain": [
       "[array([[ 0.,  1.],\n",
       "        [ 4.,  5.],\n",
       "        [ 8.,  9.],\n",
       "        [12., 13.]]),\n",
       " array([[ 2.,  3.],\n",
       "        [ 6.,  7.],\n",
       "        [10., 11.],\n",
       "        [14., 15.]])]"
      ]
     },
     "execution_count": 70,
     "metadata": {},
     "output_type": "execute_result"
    }
   ],
   "source": [
    "np.hsplit(x, 2) \n",
    "#the array is always split along the second axis regardless of the array dimension."
   ]
  },
  {
   "cell_type": "code",
   "execution_count": 71,
   "id": "580e1acc",
   "metadata": {},
   "outputs": [
    {
     "data": {
      "text/plain": [
       "array([[ 0.,  1.,  2.,  3.],\n",
       "       [ 4.,  5.,  6.,  7.],\n",
       "       [ 8.,  9., 10., 11.],\n",
       "       [12., 13., 14., 15.]])"
      ]
     },
     "execution_count": 71,
     "metadata": {},
     "output_type": "execute_result"
    }
   ],
   "source": [
    "#vsplit:Split an array into multiple sub-arrays vertically (row-wise).\n",
    "x = np.arange(16.0).reshape(4, 4)\n",
    "\n",
    "x"
   ]
  },
  {
   "cell_type": "code",
   "execution_count": 72,
   "id": "e6a201e0",
   "metadata": {},
   "outputs": [
    {
     "data": {
      "text/plain": [
       "[array([[0., 1., 2., 3.],\n",
       "        [4., 5., 6., 7.]]),\n",
       " array([[ 8.,  9., 10., 11.],\n",
       "        [12., 13., 14., 15.]])]"
      ]
     },
     "execution_count": 72,
     "metadata": {},
     "output_type": "execute_result"
    }
   ],
   "source": [
    "np.vsplit(x, 2)"
   ]
  },
  {
   "cell_type": "code",
   "execution_count": 73,
   "id": "79202ee5",
   "metadata": {},
   "outputs": [
    {
     "data": {
      "text/plain": [
       "[array([[0., 1., 2., 3.]]),\n",
       " array([[4., 5., 6., 7.]]),\n",
       " array([[ 8.,  9., 10., 11.]]),\n",
       " array([[12., 13., 14., 15.]])]"
      ]
     },
     "execution_count": 73,
     "metadata": {},
     "output_type": "execute_result"
    }
   ],
   "source": [
    "np.vsplit(x, 4)"
   ]
  },
  {
   "cell_type": "code",
   "execution_count": 74,
   "id": "f1c4f7f8",
   "metadata": {},
   "outputs": [
    {
     "data": {
      "text/plain": [
       "array([2., 3.])"
      ]
     },
     "execution_count": 74,
     "metadata": {},
     "output_type": "execute_result"
    }
   ],
   "source": [
    "#numpy.asfarray:Return an array converted to a float type\n",
    "np.asfarray([2, 3])"
   ]
  },
  {
   "cell_type": "code",
   "execution_count": 75,
   "id": "29a7830f",
   "metadata": {},
   "outputs": [
    {
     "data": {
      "text/plain": [
       "array([1, 2])"
      ]
     },
     "execution_count": 75,
     "metadata": {},
     "output_type": "execute_result"
    }
   ],
   "source": [
    "#numpy.asarray:Convert the input to an array.\n",
    "a = [1, 2] #Convert a list into an array:\n",
    "\n",
    "np.asarray(a)"
   ]
  },
  {
   "cell_type": "code",
   "execution_count": 76,
   "id": "861f11da",
   "metadata": {},
   "outputs": [
    {
     "data": {
      "text/plain": [
       "array([[1, 1, 1, 1, 1],\n",
       "       [1, 1, 1, 1, 1],\n",
       "       [1, 1, 1, 1, 1],\n",
       "       [1, 1, 1, 1, 1],\n",
       "       [1, 1, 1, 1, 1]])"
      ]
     },
     "execution_count": 76,
     "metadata": {},
     "output_type": "execute_result"
    }
   ],
   "source": [
    "#using zeros_like to create an array with zeros in the same shape as another array\n",
    "a= np.ones((5, 5), dtype=int)\n",
    "a"
   ]
  },
  {
   "cell_type": "code",
   "execution_count": 77,
   "id": "3dcedc33",
   "metadata": {},
   "outputs": [
    {
     "data": {
      "text/plain": [
       "array([[0, 0, 0, 0, 0],\n",
       "       [0, 0, 0, 0, 0],\n",
       "       [0, 0, 0, 0, 0],\n",
       "       [0, 0, 0, 0, 0],\n",
       "       [0, 0, 0, 0, 0]])"
      ]
     },
     "execution_count": 77,
     "metadata": {},
     "output_type": "execute_result"
    }
   ],
   "source": [
    "a1=np.zeros_like(a)\n",
    "a1"
   ]
  },
  {
   "cell_type": "code",
   "execution_count": 78,
   "id": "00a6ee60",
   "metadata": {},
   "outputs": [
    {
     "data": {
      "text/plain": [
       "array([[      0,       1,       0],\n",
       "       [5570652,    1120,       0],\n",
       "       [    768,   32760, 7077985]])"
      ]
     },
     "execution_count": 78,
     "metadata": {},
     "output_type": "execute_result"
    }
   ],
   "source": [
    "#np.empty_like: Return a new array with the same shape and type as a given array.\n",
    "a = ([1,2,3], [4,5,6], [ 1,2,3])                         # a is array-like\n",
    "\n",
    "np.empty_like(a)"
   ]
  },
  {
   "cell_type": "code",
   "execution_count": 79,
   "id": "98e044fd",
   "metadata": {},
   "outputs": [
    {
     "data": {
      "text/plain": [
       "array([1, 1, 1, 1, 1, 1])"
      ]
     },
     "execution_count": 79,
     "metadata": {},
     "output_type": "execute_result"
    }
   ],
   "source": [
    "x = np.arange(6, dtype=int)\n",
    "np.full_like(x, 1)\n"
   ]
  },
  {
   "cell_type": "code",
   "execution_count": 80,
   "id": "f830bc11",
   "metadata": {},
   "outputs": [
    {
     "data": {
      "text/plain": [
       "array([0, 0, 0, 0, 0, 0])"
      ]
     },
     "execution_count": 80,
     "metadata": {},
     "output_type": "execute_result"
    }
   ],
   "source": [
    "np.full_like(x, 0.1) #here data type is int"
   ]
  },
  {
   "cell_type": "code",
   "execution_count": 81,
   "id": "cb72571e",
   "metadata": {},
   "outputs": [
    {
     "data": {
      "text/plain": [
       "array([0.1, 0.1, 0.1, 0.1, 0.1, 0.1])"
      ]
     },
     "execution_count": 81,
     "metadata": {},
     "output_type": "execute_result"
    }
   ],
   "source": [
    "np.full_like(x, 0.1, dtype=np.double) #here data type is float\n"
   ]
  },
  {
   "cell_type": "code",
   "execution_count": 82,
   "id": "1ee6dfc3",
   "metadata": {},
   "outputs": [
    {
     "data": {
      "text/plain": [
       "array([[[0., 0., 0., 0.],\n",
       "        [0., 0., 0., 0.],\n",
       "        [0., 0., 0., 0.]],\n",
       "\n",
       "       [[0., 0., 0., 0.],\n",
       "        [0., 0., 0., 0.],\n",
       "        [0., 0., 0., 0.]]])"
      ]
     },
     "execution_count": 82,
     "metadata": {},
     "output_type": "execute_result"
    }
   ],
   "source": [
    "a = np.zeros((2, 3, 4))\n",
    "a"
   ]
  },
  {
   "cell_type": "code",
   "execution_count": 83,
   "id": "f4058915",
   "metadata": {},
   "outputs": [
    {
     "data": {
      "text/plain": [
       "array([[0., 0., 0., 0.],\n",
       "       [0., 0., 0., 0.],\n",
       "       [0., 0., 0., 0.],\n",
       "       [0., 0., 0., 0.],\n",
       "       [0., 0., 0., 0.],\n",
       "       [0., 0., 0., 0.]])"
      ]
     },
     "execution_count": 83,
     "metadata": {},
     "output_type": "execute_result"
    }
   ],
   "source": [
    "#reshape 3d into 2d\n",
    "b = a.reshape((-1, 4))\n",
    "b"
   ]
  },
  {
   "cell_type": "code",
   "execution_count": 84,
   "id": "25d98aa9",
   "metadata": {},
   "outputs": [
    {
     "data": {
      "text/plain": [
       "((2, 3, 4), (6, 4))"
      ]
     },
     "execution_count": 84,
     "metadata": {},
     "output_type": "execute_result"
    }
   ],
   "source": [
    "a.shape, b.shape\n",
    "#notice that 2*3*4 has to be equal to 6*4"
   ]
  },
  {
   "cell_type": "code",
   "execution_count": 85,
   "id": "6b142a09",
   "metadata": {},
   "outputs": [
    {
     "data": {
      "text/plain": [
       "array([[-0.47135697,  0.63203051,  0.21725536, -1.2954875 , -0.24749024,\n",
       "        -0.73593201, -0.2559252 ,  0.82873536,  1.48965095, -1.33585476],\n",
       "       [ 0.67859244, -0.02408409,  1.28609125, -0.03788372,  0.6151296 ,\n",
       "        -1.76599743, -0.10904653, -0.21742246, -0.95115867, -1.47738385],\n",
       "       [-1.15289907, -0.83655545,  0.14902406,  0.78486181, -0.26718189,\n",
       "         0.71085444, -0.82990753,  0.3035398 ,  1.51947392,  0.1414079 ],\n",
       "       [ 1.33022614, -0.27608692,  1.62319972, -0.36247953,  0.89946445,\n",
       "        -0.78358841, -2.44427876, -0.01239584, -0.61233529,  0.25086048],\n",
       "       [ 1.13226077,  0.88377653, -1.3279427 , -0.07835335, -1.20671203,\n",
       "        -0.13699299,  0.53785122, -0.78992057, -0.09023353,  0.44720495],\n",
       "       [ 0.08384008,  0.04931628, -0.18338592,  1.41972753, -0.11599236,\n",
       "         1.16740952,  0.1028751 , -0.17423382,  0.3636576 ,  0.01547543],\n",
       "       [ 0.62399683,  2.42140715,  0.57414432, -0.20294082, -0.65063592,\n",
       "        -2.2764276 , -1.11903621, -0.13055176, -0.34840432,  1.82260821],\n",
       "       [ 1.61021499,  0.16758128,  0.40373291, -0.88298583,  1.92579352,\n",
       "         0.22532558,  1.80867502, -0.66318783,  0.42615113, -1.37078343],\n",
       "       [ 0.5029311 ,  1.50866949,  1.72578379,  0.08641411, -0.24083407,\n",
       "         0.07756105, -0.50585293,  0.89617469,  0.46180524, -0.57223122],\n",
       "       [-0.01925543,  1.76873403,  0.58584967,  0.10923875,  0.10624675,\n",
       "        -0.58084923, -0.78814684, -1.38512985, -0.9226086 , -0.60841791]])"
      ]
     },
     "execution_count": 85,
     "metadata": {},
     "output_type": "execute_result"
    }
   ],
   "source": [
    "#an array of random number 10 *10 array\n",
    "d = np.random.randn(10,10) \n",
    "d"
   ]
  },
  {
   "cell_type": "code",
   "execution_count": 86,
   "id": "5d5a80ef",
   "metadata": {},
   "outputs": [
    {
     "ename": "ModuleNotFoundError",
     "evalue": "No module named 'seaborn'",
     "output_type": "error",
     "traceback": [
      "\u001b[1;31m---------------------------------------------------------------------------\u001b[0m",
      "\u001b[1;31mModuleNotFoundError\u001b[0m                       Traceback (most recent call last)",
      "\u001b[1;32m~\\AppData\\Local\\Temp\\ipykernel_17356\\2790230945.py\u001b[0m in \u001b[0;36m<module>\u001b[1;34m\u001b[0m\n\u001b[1;32m----> 1\u001b[1;33m \u001b[1;32mimport\u001b[0m \u001b[0mseaborn\u001b[0m \u001b[1;32mas\u001b[0m \u001b[0msns\u001b[0m\u001b[1;33m\u001b[0m\u001b[0m\n\u001b[0m\u001b[0;32m      2\u001b[0m \u001b[1;32mimport\u001b[0m \u001b[0mmatplotlib\u001b[0m\u001b[1;33m.\u001b[0m\u001b[0mpyplot\u001b[0m \u001b[1;32mas\u001b[0m \u001b[0mplt\u001b[0m\u001b[1;33m\u001b[0m\u001b[0m\n\u001b[0;32m      3\u001b[0m \u001b[0msns\u001b[0m\u001b[1;33m.\u001b[0m\u001b[0mdistplot\u001b[0m\u001b[1;33m(\u001b[0m\u001b[0md\u001b[0m\u001b[1;33m)\u001b[0m\u001b[1;33m\u001b[0m\u001b[0m\n",
      "\u001b[1;31mModuleNotFoundError\u001b[0m: No module named 'seaborn'"
     ]
    }
   ],
   "source": [
    "import seaborn as sns\n",
    "import matplotlib.pyplot as plt\n",
    "sns.distplot(d)"
   ]
  },
  {
   "cell_type": "code",
   "execution_count": 87,
   "id": "820486ff",
   "metadata": {},
   "outputs": [
    {
     "ename": "NameError",
     "evalue": "name 'sns' is not defined",
     "output_type": "error",
     "traceback": [
      "\u001b[1;31m---------------------------------------------------------------------------\u001b[0m",
      "\u001b[1;31mNameError\u001b[0m                                 Traceback (most recent call last)",
      "\u001b[1;32m~\\AppData\\Local\\Temp\\ipykernel_17356\\1937578049.py\u001b[0m in \u001b[0;36m<module>\u001b[1;34m\u001b[0m\n\u001b[0;32m      2\u001b[0m \u001b[0mu\u001b[0m \u001b[1;33m=\u001b[0m \u001b[0mnp\u001b[0m\u001b[1;33m.\u001b[0m\u001b[0mrandom\u001b[0m\u001b[1;33m.\u001b[0m\u001b[0muniform\u001b[0m\u001b[1;33m(\u001b[0m\u001b[0msize\u001b[0m\u001b[1;33m=\u001b[0m\u001b[1;36m10000\u001b[0m\u001b[1;33m)\u001b[0m\u001b[1;33m\u001b[0m\u001b[0m\n\u001b[0;32m      3\u001b[0m \u001b[1;33m\u001b[0m\u001b[0m\n\u001b[1;32m----> 4\u001b[1;33m \u001b[0msns\u001b[0m\u001b[1;33m.\u001b[0m\u001b[0mdistplot\u001b[0m\u001b[1;33m(\u001b[0m\u001b[0mu\u001b[0m\u001b[1;33m)\u001b[0m\u001b[1;33m\u001b[0m\u001b[0m\n\u001b[0m\u001b[0;32m      5\u001b[0m \u001b[1;33m\u001b[0m\u001b[0m\n\u001b[0;32m      6\u001b[0m \u001b[0mplt\u001b[0m\u001b[1;33m.\u001b[0m\u001b[0mxlabel\u001b[0m\u001b[1;33m(\u001b[0m\u001b[1;34m'u'\u001b[0m\u001b[1;33m)\u001b[0m\u001b[1;33m\u001b[0m\u001b[0m\n",
      "\u001b[1;31mNameError\u001b[0m: name 'sns' is not defined"
     ]
    }
   ],
   "source": [
    "#sampling a uniform distribution\n",
    "u = np.random.uniform(size=10000)\n",
    "\n",
    "sns.distplot(u)\n",
    "\n",
    "plt.xlabel('u')\n",
    "plt.ylabel('density')\n",
    "plt.show()"
   ]
  },
  {
   "cell_type": "code",
   "execution_count": null,
   "id": "e1df1480",
   "metadata": {},
   "outputs": [],
   "source": []
  },
  {
   "cell_type": "code",
   "execution_count": 88,
   "id": "40fc052f",
   "metadata": {},
   "outputs": [
    {
     "data": {
      "text/plain": [
       "array([[1, 2, 3],\n",
       "       [4, 5, 6],\n",
       "       [7, 8, 9]])"
      ]
     },
     "execution_count": 88,
     "metadata": {},
     "output_type": "execute_result"
    }
   ],
   "source": [
    "#append\n",
    "b=np.append([[1, 2, 3], [4, 5, 6]], [[7, 8, 9]], axis=0)\n",
    "b"
   ]
  },
  {
   "cell_type": "code",
   "execution_count": 89,
   "id": "91fc2050",
   "metadata": {},
   "outputs": [
    {
     "data": {
      "text/plain": [
       "array([1, 2, 3, 4, 5, 6, 7, 8, 9])"
      ]
     },
     "execution_count": 89,
     "metadata": {},
     "output_type": "execute_result"
    }
   ],
   "source": [
    "#append\n",
    "b=np.append([[1, 2, 3], [4, 5, 6]], [[7, 8, 9]])\n",
    "b"
   ]
  },
  {
   "cell_type": "code",
   "execution_count": null,
   "id": "93af7b00",
   "metadata": {},
   "outputs": [],
   "source": []
  },
  {
   "cell_type": "code",
   "execution_count": 90,
   "id": "9427bf5f",
   "metadata": {},
   "outputs": [],
   "source": [
    "from tensorflow.keras.datasets import mnist\n",
    "\n",
    "(X_train,y_train),(X_test,y_test)=mnist.load_data()"
   ]
  },
  {
   "cell_type": "code",
   "execution_count": 91,
   "id": "201cc5f0",
   "metadata": {},
   "outputs": [
    {
     "data": {
      "text/plain": [
       "(60000, 28, 28)"
      ]
     },
     "execution_count": 91,
     "metadata": {},
     "output_type": "execute_result"
    }
   ],
   "source": [
    "X_train.shape"
   ]
  },
  {
   "cell_type": "code",
   "execution_count": 92,
   "id": "701adc2d",
   "metadata": {},
   "outputs": [],
   "source": [
    "import pandas as pd\n"
   ]
  },
  {
   "cell_type": "code",
   "execution_count": 93,
   "id": "32315631",
   "metadata": {},
   "outputs": [],
   "source": [
    "df=pd.read_csv('housing.csv')"
   ]
  },
  {
   "cell_type": "code",
   "execution_count": 94,
   "id": "417b8400",
   "metadata": {},
   "outputs": [
    {
     "data": {
      "text/html": [
       "<div>\n",
       "<style scoped>\n",
       "    .dataframe tbody tr th:only-of-type {\n",
       "        vertical-align: middle;\n",
       "    }\n",
       "\n",
       "    .dataframe tbody tr th {\n",
       "        vertical-align: top;\n",
       "    }\n",
       "\n",
       "    .dataframe thead th {\n",
       "        text-align: right;\n",
       "    }\n",
       "</style>\n",
       "<table border=\"1\" class=\"dataframe\">\n",
       "  <thead>\n",
       "    <tr style=\"text-align: right;\">\n",
       "      <th></th>\n",
       "      <th>longitude</th>\n",
       "      <th>latitude</th>\n",
       "      <th>housing_median_age</th>\n",
       "      <th>total_rooms</th>\n",
       "      <th>total_bedrooms</th>\n",
       "      <th>population</th>\n",
       "      <th>households</th>\n",
       "      <th>median_income</th>\n",
       "      <th>median_house_value</th>\n",
       "      <th>ocean_proximity</th>\n",
       "    </tr>\n",
       "  </thead>\n",
       "  <tbody>\n",
       "    <tr>\n",
       "      <th>0</th>\n",
       "      <td>-122.23</td>\n",
       "      <td>37.88</td>\n",
       "      <td>41.0</td>\n",
       "      <td>880.0</td>\n",
       "      <td>129.0</td>\n",
       "      <td>322.0</td>\n",
       "      <td>126.0</td>\n",
       "      <td>8.3252</td>\n",
       "      <td>452600.0</td>\n",
       "      <td>NEAR BAY</td>\n",
       "    </tr>\n",
       "    <tr>\n",
       "      <th>1</th>\n",
       "      <td>-122.22</td>\n",
       "      <td>37.86</td>\n",
       "      <td>21.0</td>\n",
       "      <td>7099.0</td>\n",
       "      <td>1106.0</td>\n",
       "      <td>2401.0</td>\n",
       "      <td>1138.0</td>\n",
       "      <td>8.3014</td>\n",
       "      <td>358500.0</td>\n",
       "      <td>NEAR BAY</td>\n",
       "    </tr>\n",
       "    <tr>\n",
       "      <th>2</th>\n",
       "      <td>-122.24</td>\n",
       "      <td>37.85</td>\n",
       "      <td>52.0</td>\n",
       "      <td>1467.0</td>\n",
       "      <td>190.0</td>\n",
       "      <td>496.0</td>\n",
       "      <td>177.0</td>\n",
       "      <td>7.2574</td>\n",
       "      <td>352100.0</td>\n",
       "      <td>NEAR BAY</td>\n",
       "    </tr>\n",
       "    <tr>\n",
       "      <th>3</th>\n",
       "      <td>-122.25</td>\n",
       "      <td>37.85</td>\n",
       "      <td>52.0</td>\n",
       "      <td>1274.0</td>\n",
       "      <td>235.0</td>\n",
       "      <td>558.0</td>\n",
       "      <td>219.0</td>\n",
       "      <td>5.6431</td>\n",
       "      <td>341300.0</td>\n",
       "      <td>NEAR BAY</td>\n",
       "    </tr>\n",
       "    <tr>\n",
       "      <th>4</th>\n",
       "      <td>-122.25</td>\n",
       "      <td>37.85</td>\n",
       "      <td>52.0</td>\n",
       "      <td>1627.0</td>\n",
       "      <td>280.0</td>\n",
       "      <td>565.0</td>\n",
       "      <td>259.0</td>\n",
       "      <td>3.8462</td>\n",
       "      <td>342200.0</td>\n",
       "      <td>NEAR BAY</td>\n",
       "    </tr>\n",
       "  </tbody>\n",
       "</table>\n",
       "</div>"
      ],
      "text/plain": [
       "   longitude  latitude  housing_median_age  total_rooms  total_bedrooms  \\\n",
       "0    -122.23     37.88                41.0        880.0           129.0   \n",
       "1    -122.22     37.86                21.0       7099.0          1106.0   \n",
       "2    -122.24     37.85                52.0       1467.0           190.0   \n",
       "3    -122.25     37.85                52.0       1274.0           235.0   \n",
       "4    -122.25     37.85                52.0       1627.0           280.0   \n",
       "\n",
       "   population  households  median_income  median_house_value ocean_proximity  \n",
       "0       322.0       126.0         8.3252            452600.0        NEAR BAY  \n",
       "1      2401.0      1138.0         8.3014            358500.0        NEAR BAY  \n",
       "2       496.0       177.0         7.2574            352100.0        NEAR BAY  \n",
       "3       558.0       219.0         5.6431            341300.0        NEAR BAY  \n",
       "4       565.0       259.0         3.8462            342200.0        NEAR BAY  "
      ]
     },
     "execution_count": 94,
     "metadata": {},
     "output_type": "execute_result"
    }
   ],
   "source": [
    "df.head()"
   ]
  },
  {
   "cell_type": "code",
   "execution_count": 95,
   "id": "2ecb5d04",
   "metadata": {},
   "outputs": [
    {
     "data": {
      "text/plain": [
       "(20640, 10)"
      ]
     },
     "execution_count": 95,
     "metadata": {},
     "output_type": "execute_result"
    }
   ],
   "source": [
    "df.shape"
   ]
  },
  {
   "cell_type": "code",
   "execution_count": 96,
   "id": "c7696deb",
   "metadata": {},
   "outputs": [
    {
     "data": {
      "text/plain": [
       "(20640, 10)"
      ]
     },
     "execution_count": 96,
     "metadata": {},
     "output_type": "execute_result"
    }
   ],
   "source": [
    "#converting dataset to numpy array\n",
    "df.to_numpy().shape"
   ]
  },
  {
   "cell_type": "code",
   "execution_count": 97,
   "id": "d8173043",
   "metadata": {},
   "outputs": [
    {
     "data": {
      "text/plain": [
       "array([[1, 2, 3],\n",
       "       [4, 5, 6]])"
      ]
     },
     "execution_count": 97,
     "metadata": {},
     "output_type": "execute_result"
    }
   ],
   "source": [
    "#numpy.cumsum:Return the cumulative sum of the elements along a given axis.\n",
    "a = np.array([[1,2,3], [4,5,6]])\n",
    "\n",
    "a #first add just the first element, then first 2 , then first 3 and so on"
   ]
  },
  {
   "cell_type": "code",
   "execution_count": 98,
   "id": "38299bba",
   "metadata": {},
   "outputs": [
    {
     "data": {
      "text/plain": [
       "array([1. , 1.5, 2.5, 3.5, 4.5, 5. ])"
      ]
     },
     "execution_count": 98,
     "metadata": {},
     "output_type": "execute_result"
    }
   ],
   "source": [
    "#numpy.gradient:Return the gradient of an N-dimensional array\n",
    "#numpy.gradient(f, *varargs, axis=None, edge_order=1)[source]\n",
    "f = np.array([1, 2, 4, 7, 11, 16], dtype=float)\n",
    "np.gradient(f)"
   ]
  },
  {
   "cell_type": "markdown",
   "id": "7681ec2a",
   "metadata": {},
   "source": [
    "to find the inverse of a squared matrix:use np.linalg.inv(S)"
   ]
  },
  {
   "cell_type": "code",
   "execution_count": 99,
   "id": "e1d79ef5",
   "metadata": {},
   "outputs": [
    {
     "data": {
      "text/plain": [
       "array([[-2. ,  1. ],\n",
       "       [ 1.5, -0.5]])"
      ]
     },
     "execution_count": 99,
     "metadata": {},
     "output_type": "execute_result"
    }
   ],
   "source": [
    "from numpy.linalg import inv\n",
    "\n",
    "\n",
    "a = np.array([[1., 2.], [3., 4.]])\n",
    "\n",
    "ainv = inv(a)\n",
    "ainv"
   ]
  },
  {
   "cell_type": "markdown",
   "id": "3a175361",
   "metadata": {},
   "source": [
    "to find the inverse of a non squred matrix: use  np.linalg.pinv"
   ]
  },
  {
   "cell_type": "code",
   "execution_count": 100,
   "id": "bc0feb5e",
   "metadata": {},
   "outputs": [
    {
     "data": {
      "text/plain": [
       "array([[-1.16666667,  0.66666667],\n",
       "       [-0.16666667,  0.16666667],\n",
       "       [ 0.83333333, -0.33333333]])"
      ]
     },
     "execution_count": 100,
     "metadata": {},
     "output_type": "execute_result"
    }
   ],
   "source": [
    "a = np.array([[1., 2.,3.], [3., 4.,5.]])\n",
    "\n",
    "ainv= np.linalg.pinv(a)\n",
    "ainv"
   ]
  },
  {
   "cell_type": "code",
   "execution_count": 1,
   "id": "53b96dfd",
   "metadata": {},
   "outputs": [
    {
     "data": {
      "text/plain": [
       "10"
      ]
     },
     "execution_count": 1,
     "metadata": {},
     "output_type": "execute_result"
    }
   ],
   "source": [
    "import numpy as np\n",
    "x =np.array([1,2,3,4])\n",
    "sum= np.sum(x)\n",
    "sum"
   ]
  },
  {
   "cell_type": "code",
   "execution_count": 3,
   "id": "e289a2aa",
   "metadata": {},
   "outputs": [
    {
     "data": {
      "text/plain": [
       "array([1, 1, 1])"
      ]
     },
     "execution_count": 3,
     "metadata": {},
     "output_type": "execute_result"
    }
   ],
   "source": [
    "#how to sum the columns\n",
    "y= np.array([[1,0,0],[1,0,0],[1,0,0]])\n",
    "sum1= np.sum(y,axis=1)\n",
    "sum1"
   ]
  },
  {
   "cell_type": "code",
   "execution_count": 4,
   "id": "5107b78b",
   "metadata": {},
   "outputs": [
    {
     "data": {
      "text/plain": [
       "1"
      ]
     },
     "execution_count": 4,
     "metadata": {},
     "output_type": "execute_result"
    }
   ],
   "source": [
    "sum1[0] # the sum of the first column"
   ]
  },
  {
   "cell_type": "code",
   "execution_count": 5,
   "id": "1bfa59fc",
   "metadata": {},
   "outputs": [
    {
     "data": {
      "text/plain": [
       "3"
      ]
     },
     "execution_count": 5,
     "metadata": {},
     "output_type": "execute_result"
    }
   ],
   "source": [
    "m,n = y.shape # how to get the # of rows and columns\n",
    "m"
   ]
  },
  {
   "cell_type": "code",
   "execution_count": 6,
   "id": "aeb45425",
   "metadata": {},
   "outputs": [
    {
     "data": {
      "text/plain": [
       "3"
      ]
     },
     "execution_count": 6,
     "metadata": {},
     "output_type": "execute_result"
    }
   ],
   "source": [
    "n"
   ]
  },
  {
   "cell_type": "code",
   "execution_count": 7,
   "id": "1d81053a",
   "metadata": {},
   "outputs": [
    {
     "data": {
      "text/plain": [
       "9"
      ]
     },
     "execution_count": 7,
     "metadata": {},
     "output_type": "execute_result"
    }
   ],
   "source": [
    "y.size # number of rows * number of columns"
   ]
  },
  {
   "cell_type": "code",
   "execution_count": 8,
   "id": "7f3bd1ac",
   "metadata": {},
   "outputs": [
    {
     "data": {
      "text/plain": [
       "2"
      ]
     },
     "execution_count": 8,
     "metadata": {},
     "output_type": "execute_result"
    }
   ],
   "source": [
    "y.ndim #number of dimensions"
   ]
  },
  {
   "cell_type": "code",
   "execution_count": 9,
   "id": "d2e48e62",
   "metadata": {},
   "outputs": [
    {
     "name": "stdout",
     "output_type": "stream",
     "text": [
      "[1 0 0]\n"
     ]
    }
   ],
   "source": [
    "#To find the max element in each column\n",
    "print(np.max(y,axis=0))"
   ]
  },
  {
   "cell_type": "code",
   "execution_count": 10,
   "id": "25478d7f",
   "metadata": {},
   "outputs": [
    {
     "name": "stdout",
     "output_type": "stream",
     "text": [
      "[1 1 1]\n"
     ]
    }
   ],
   "source": [
    "#To find the max element in each row\n",
    "print(np.max(y,axis=1))"
   ]
  },
  {
   "cell_type": "code",
   "execution_count": 12,
   "id": "4b779697",
   "metadata": {},
   "outputs": [
    {
     "name": "stdout",
     "output_type": "stream",
     "text": [
      "0.3333333333333333\n",
      "0.4714045207910317\n",
      "0.2222222222222222\n"
     ]
    }
   ],
   "source": [
    "#Mean\n",
    "print(np.mean(y))\n",
    "#Standard Dev\n",
    "print(np.std(y))\n",
    "#Variance\n",
    "print(np.var(y))"
   ]
  },
  {
   "cell_type": "code",
   "execution_count": 15,
   "id": "f385fae4",
   "metadata": {},
   "outputs": [
    {
     "data": {
      "text/plain": [
       "array([1, 0, 0, 1, 0, 0, 1, 0, 0])"
      ]
     },
     "execution_count": 15,
     "metadata": {},
     "output_type": "execute_result"
    }
   ],
   "source": [
    "#If we provide only 1 value Reshape would return a 1-d array of that length\n",
    "x22 = y.reshape(-1) #here reshape is similar to flatten but with commas, which doesn't make a difference\n",
    "x22"
   ]
  },
  {
   "cell_type": "code",
   "execution_count": 22,
   "id": "48afc52f",
   "metadata": {},
   "outputs": [
    {
     "data": {
      "text/plain": [
       "1"
      ]
     },
     "execution_count": 22,
     "metadata": {},
     "output_type": "execute_result"
    }
   ],
   "source": [
    "x22[0]"
   ]
  },
  {
   "cell_type": "code",
   "execution_count": 16,
   "id": "db5bbaf1",
   "metadata": {},
   "outputs": [
    {
     "data": {
      "text/plain": [
       "array([[1, 0, 0, 1, 0, 0, 1, 0, 0]])"
      ]
     },
     "execution_count": 16,
     "metadata": {},
     "output_type": "execute_result"
    }
   ],
   "source": [
    "x23 = y.reshape(1,-1) #here -1 says as many columns with 1 row\n",
    "x23"
   ]
  },
  {
   "cell_type": "code",
   "execution_count": 20,
   "id": "1fc085ab",
   "metadata": {},
   "outputs": [
    {
     "data": {
      "text/plain": [
       "array([[1],\n",
       "       [0],\n",
       "       [0],\n",
       "       [1],\n",
       "       [0],\n",
       "       [0],\n",
       "       [1],\n",
       "       [0],\n",
       "       [0]])"
      ]
     },
     "execution_count": 20,
     "metadata": {},
     "output_type": "execute_result"
    }
   ],
   "source": [
    "x24 = y.reshape(9,1) \n",
    "x24"
   ]
  },
  {
   "cell_type": "code",
   "execution_count": 23,
   "id": "34e3b44f",
   "metadata": {},
   "outputs": [
    {
     "name": "stdout",
     "output_type": "stream",
     "text": [
      "[1 0 0 1 0 0 1 0 0]\n"
     ]
    }
   ],
   "source": [
    "#We can also use the Flatten method to convert a matrix to 1-d array\n",
    "x25 = y.flatten()\n",
    "print(x25)"
   ]
  },
  {
   "cell_type": "code",
   "execution_count": 24,
   "id": "17a34a82",
   "metadata": {},
   "outputs": [
    {
     "data": {
      "text/plain": [
       "1"
      ]
     },
     "execution_count": 24,
     "metadata": {},
     "output_type": "execute_result"
    }
   ],
   "source": [
    "x25[0]"
   ]
  },
  {
   "cell_type": "code",
   "execution_count": 25,
   "id": "35bfe336",
   "metadata": {},
   "outputs": [
    {
     "name": "stdout",
     "output_type": "stream",
     "text": [
      "[[1 2 3]\n",
      " [4 5 6]\n",
      " [7 8 9]]\n",
      "[[1 4 7]\n",
      " [2 5 8]\n",
      " [3 6 9]]\n"
     ]
    }
   ],
   "source": [
    "#transpose:\n",
    "matrix = np.array([[1,2,3],[4,5,6],[7,8,9]])\n",
    "print(matrix)\n",
    "#Transpose the matrix\n",
    "print(matrix.T)"
   ]
  },
  {
   "cell_type": "code",
   "execution_count": 26,
   "id": "99358226",
   "metadata": {},
   "outputs": [
    {
     "name": "stdout",
     "output_type": "stream",
     "text": [
      "0.0\n",
      "2\n"
     ]
    }
   ],
   "source": [
    "#Calculate the Determinant : lingalg stands for linear algebra\n",
    "print(np.linalg.det(matrix))\n",
    "#Calculate the Rank\n",
    "print(np.linalg.matrix_rank(matrix))"
   ]
  },
  {
   "cell_type": "code",
   "execution_count": 28,
   "id": "4917266c",
   "metadata": {},
   "outputs": [
    {
     "name": "stdout",
     "output_type": "stream",
     "text": [
      "32\n"
     ]
    }
   ],
   "source": [
    "#Create vector-1\n",
    "vector_1 = np.array([ 1,2,3 ])#Create vector-2\n",
    "vector_2 = np.array([ 4,5,6 ])#Calculate Dot Product\n",
    "print(np.dot(vector_1,vector_2))"
   ]
  },
  {
   "cell_type": "code",
   "execution_count": 32,
   "id": "33305c0a",
   "metadata": {},
   "outputs": [
    {
     "name": "stdout",
     "output_type": "stream",
     "text": [
      "[[ 8 10 12]\n",
      " [ 8 10 12]\n",
      " [ 8 10 12]]\n",
      "-----------------\n",
      "[[-6 -6 -6]\n",
      " [ 0  0  0]\n",
      " [ 6  6  6]]\n",
      "-----------------\n",
      "[[ 7 16 27]\n",
      " [16 25 36]\n",
      " [ 7 16 27]]\n"
     ]
    }
   ],
   "source": [
    "#Create Matrix-1\n",
    "matrix_1 = np.array([[1,2,3],[4,5,6],[7,8,9]])#Create Matrix-2\n",
    "matrix_2 = np.array([[7,8,9],[4,5,6],[1,2,3]])\n",
    "#Add the 2 Matrices\n",
    "print(np.add(matrix_1,matrix_2))\n",
    "print('-----------------')\n",
    "print(np.subtract(matrix_1,matrix_2))#Subtraction\n",
    "print('-----------------')\n",
    "print(matrix_1*matrix_2)#Multiplication(Element wise, not Dot Product)"
   ]
  },
  {
   "cell_type": "code",
   "execution_count": null,
   "id": "d0e08d19",
   "metadata": {},
   "outputs": [],
   "source": []
  },
  {
   "cell_type": "code",
   "execution_count": 9,
   "id": "406e1571",
   "metadata": {},
   "outputs": [
    {
     "data": {
      "text/plain": [
       "3"
      ]
     },
     "execution_count": 9,
     "metadata": {},
     "output_type": "execute_result"
    }
   ],
   "source": [
    "pval= np.array([1,0,1,0,1,1,0])\n",
    "tval= np.array([1,1,1,1,1,0,0])\n",
    "#how many times do they match\n",
    "tp = np.sum((pval == 1) &  (tval == 1))\n",
    "tp"
   ]
  },
  {
   "cell_type": "code",
   "execution_count": 10,
   "id": "0abcb3b6",
   "metadata": {},
   "outputs": [
    {
     "data": {
      "text/plain": [
       "True"
      ]
     },
     "execution_count": 10,
     "metadata": {},
     "output_type": "execute_result"
    }
   ],
   "source": [
    "epsilon = 0.5\n",
    "a = 0.56\n",
    "prob = (a > epsilon)\n",
    "prob"
   ]
  },
  {
   "cell_type": "code",
   "execution_count": 11,
   "id": "8115de5d",
   "metadata": {},
   "outputs": [
    {
     "data": {
      "text/plain": [
       "45"
      ]
     },
     "execution_count": 11,
     "metadata": {},
     "output_type": "execute_result"
    }
   ],
   "source": [
    "#another way to loop through using numpy\n",
    "a = [1,7,8,3,9,10,4]\n",
    "sum = 0\n",
    "for i in np.arange(min(a),max(a),1): #here 1 is the step size\n",
    "    sum += i\n",
    "sum"
   ]
  },
  {
   "cell_type": "markdown",
   "id": "6adb5850",
   "metadata": {},
   "source": [
    "### linalg.norm(x, ord=None, axis=None, keepdims=False)\n",
    "\n",
    "## Matrix or vector norm.\n",
    "## The length of the vector is referred to as the vector norm or the vector's magnitude. \n",
    "\n",
    "This function is able to return one of eight different matrix norms, or one of an infinite number of vector norms (described below), depending on the value of the ord parameter.\n",
    "\n",
    "Parameters\n",
    "\n",
    "    x:   array_like\n",
    "\n",
    "        Input array. If axis is None, x must be 1-D or 2-D, unless ord is None. If both axis and ord are None, the 2-norm of x.ravel will be returned.\n",
    "    ord:   {non-zero int, inf, -inf, ‘fro’, ‘nuc’}, optional\n",
    "\n",
    "        Order of the norm (see table under Notes). inf means numpy’s inf object. The default is None.\n",
    "    axis:  {None, int, 2-tuple of ints}, optional.\n",
    "\n",
    "        If axis is an integer, it specifies the axis of x along which to compute the vector norms. If axis is a 2-tuple, it specifies the axes that hold 2-D matrices, and the matrix norms of these matrices are computed. If axis is None then either a vector norm (when x is 1-D) or a matrix norm (when x is 2-D) is returned. The default is None."
   ]
  },
  {
   "cell_type": "code",
   "execution_count": 15,
   "id": "5347047c",
   "metadata": {},
   "outputs": [
    {
     "data": {
      "text/plain": [
       "1.0"
      ]
     },
     "execution_count": 15,
     "metadata": {},
     "output_type": "execute_result"
    }
   ],
   "source": [
    "a = np.array([1,2,3,4])\n",
    "b = np.array([0,1,2,3])\n",
    "for i in range(a.shape[0]):\n",
    "    c= np.linalg.norm(a[i]-b[i])\n",
    "c"
   ]
  },
  {
   "cell_type": "code",
   "execution_count": 20,
   "id": "218bffb5",
   "metadata": {},
   "outputs": [
    {
     "data": {
      "text/plain": [
       "5.477225575051661"
      ]
     },
     "execution_count": 20,
     "metadata": {},
     "output_type": "execute_result"
    }
   ],
   "source": [
    "norm = np.linalg.norm(a) # this is the length of matrix or vector A\n",
    "norm"
   ]
  },
  {
   "cell_type": "code",
   "execution_count": 25,
   "id": "266e89da",
   "metadata": {},
   "outputs": [
    {
     "data": {
      "text/plain": [
       "1.0"
      ]
     },
     "execution_count": 25,
     "metadata": {},
     "output_type": "execute_result"
    }
   ],
   "source": [
    "c1 = np.linalg.norm(a[0]-b[0]) #maybe to get the absolute value with no negatives!\n",
    "c1"
   ]
  },
  {
   "cell_type": "code",
   "execution_count": 26,
   "id": "634f5165",
   "metadata": {},
   "outputs": [
    {
     "data": {
      "text/plain": [
       "1.0"
      ]
     },
     "execution_count": 26,
     "metadata": {},
     "output_type": "execute_result"
    }
   ],
   "source": [
    "c2 = np.linalg.norm(a[1]-b[1])\n",
    "c2"
   ]
  },
  {
   "cell_type": "code",
   "execution_count": 18,
   "id": "1cfb2f82",
   "metadata": {},
   "outputs": [
    {
     "data": {
      "text/plain": [
       "0"
      ]
     },
     "execution_count": 18,
     "metadata": {},
     "output_type": "execute_result"
    }
   ],
   "source": [
    "#find the index of the minimum\n",
    "mini= np.argmin(a)\n",
    "mini"
   ]
  },
  {
   "cell_type": "code",
   "execution_count": 19,
   "id": "3a4f6f2d",
   "metadata": {},
   "outputs": [
    {
     "data": {
      "text/plain": [
       "3"
      ]
     },
     "execution_count": 19,
     "metadata": {},
     "output_type": "execute_result"
    }
   ],
   "source": [
    "#find the index of the maximum\n",
    "maxi= np.argmax(a)\n",
    "maxi"
   ]
  },
  {
   "cell_type": "code",
   "execution_count": 31,
   "id": "6c059348",
   "metadata": {},
   "outputs": [
    {
     "data": {
      "text/plain": [
       "array([1, 2])"
      ]
     },
     "execution_count": 31,
     "metadata": {},
     "output_type": "execute_result"
    }
   ],
   "source": [
    "a2 = np.array([1,2])\n",
    "np.append(a2,3)\n",
    "a2"
   ]
  },
  {
   "cell_type": "code",
   "execution_count": 32,
   "id": "7d3d7b3b",
   "metadata": {},
   "outputs": [
    {
     "data": {
      "text/plain": [
       "array([1, 2, 3])"
      ]
     },
     "execution_count": 32,
     "metadata": {},
     "output_type": "execute_result"
    }
   ],
   "source": [
    "# but if we do it this way it will work\n",
    "a2 = np.array([1,2])\n",
    "a2=np.append(a2,3)\n",
    "a2"
   ]
  },
  {
   "cell_type": "markdown",
   "id": "18fc3bb1",
   "metadata": {},
   "source": [
    "numpy.squeeze\n",
    "numpy.squeeze(a, axis=None)\n",
    "\n",
    "Remove axes of length one from a."
   ]
  },
  {
   "cell_type": "code",
   "execution_count": 3,
   "id": "d0b4422b",
   "metadata": {},
   "outputs": [
    {
     "data": {
      "text/plain": [
       "array([[0],\n",
       "       [1],\n",
       "       [2]])"
      ]
     },
     "execution_count": 3,
     "metadata": {},
     "output_type": "execute_result"
    }
   ],
   "source": [
    "import numpy as np\n",
    "x=np.array([[[0], [1], [2]]])\n",
    "x= np.squeeze(x,axis=0)\n",
    "x"
   ]
  },
  {
   "cell_type": "code",
   "execution_count": 4,
   "id": "282c93d2",
   "metadata": {},
   "outputs": [
    {
     "data": {
      "text/plain": [
       "array([0, 1, 2])"
      ]
     },
     "execution_count": 4,
     "metadata": {},
     "output_type": "execute_result"
    }
   ],
   "source": [
    "x= np.squeeze(x,axis=1)\n",
    "x"
   ]
  },
  {
   "cell_type": "code",
   "execution_count": null,
   "id": "8ccb3a6e",
   "metadata": {},
   "outputs": [],
   "source": []
  }
 ],
 "metadata": {
  "kernelspec": {
   "display_name": "Python 3 (ipykernel)",
   "language": "python",
   "name": "python3"
  },
  "language_info": {
   "codemirror_mode": {
    "name": "ipython",
    "version": 3
   },
   "file_extension": ".py",
   "mimetype": "text/x-python",
   "name": "python",
   "nbconvert_exporter": "python",
   "pygments_lexer": "ipython3",
   "version": "3.9.15"
  }
 },
 "nbformat": 4,
 "nbformat_minor": 5
}
