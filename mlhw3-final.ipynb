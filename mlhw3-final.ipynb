{
 "cells": [
  {
   "cell_type": "code",
   "execution_count": 1,
   "id": "de2defc4",
   "metadata": {},
   "outputs": [],
   "source": [
    "# XGBOOST on MNST dataset"
   ]
  },
  {
   "cell_type": "code",
   "execution_count": 1,
   "id": "f56ad408",
   "metadata": {},
   "outputs": [],
   "source": [
    "\n",
    "import numpy as np # linear algebra\n",
    "import pandas as pd # data processing, CSV file I/O (e.g. pd.read_csv)\n",
    "import numpy as np\n",
    "import matplotlib.pyplot as plt\n",
    "from keras.layers import Dense, Flatten\n",
    "from keras.models import Sequential\n",
    "from tensorflow.keras.utils import to_categorical\n",
    "from keras.datasets import mnist\n",
    "import matplotlib.pyplot as plt\n",
    "from sklearn import datasets\n",
    "import tensorflow as tf"
   ]
  },
  {
   "cell_type": "code",
   "execution_count": 2,
   "id": "9c7771de",
   "metadata": {},
   "outputs": [],
   "source": [
    "(x_train, y_train), (x_test, y_test) = mnist.load_data()"
   ]
  },
  {
   "cell_type": "code",
   "execution_count": 3,
   "id": "0a4bd75e",
   "metadata": {},
   "outputs": [
    {
     "data": {
      "image/png": "[encoded data removed]",
      "text/plain": [
       "<Figure size 432x288 with 9 Axes>"
      ]
     },
     "metadata": {
      "needs_background": "light"
     },
     "output_type": "display_data"
    }
   ],
   "source": [
    "for i in range(9):\n",
    "    plt.subplot(330 + 1 + i)\n",
    "    plt.imshow(x_train[i],cmap=plt.get_cmap('gray'))\n",
    "plt.show()"
   ]
  },
  {
   "cell_type": "code",
   "execution_count": 4,
   "id": "7c76051a",
   "metadata": {},
   "outputs": [
    {
     "name": "stdout",
     "output_type": "stream",
     "text": [
      "5\n",
      "0\n",
      "4\n",
      "1\n",
      "9\n",
      "2\n",
      "1\n",
      "3\n",
      "1\n"
     ]
    }
   ],
   "source": [
    "for i in range(9):\n",
    "    print(y_train[i])"
   ]
  },
  {
   "cell_type": "code",
   "execution_count": 5,
   "id": "60405e46",
   "metadata": {},
   "outputs": [],
   "source": [
    "image_vector_size = 28*28\n",
    "x_train = x_train/255.0\n",
    "x_test = x_test/255.0\n",
    "x_train = x_train.reshape(x_train.shape[0], image_vector_size)\n",
    "x_test = x_test.reshape(x_test.shape[0], image_vector_size)"
   ]
  },
  {
   "cell_type": "code",
   "execution_count": 6,
   "id": "10417788",
   "metadata": {},
   "outputs": [
    {
     "name": "stdout",
     "output_type": "stream",
     "text": [
      "(60000, 784)\n"
     ]
    }
   ],
   "source": [
    "print(x_train.shape)"
   ]
  },
  {
   "cell_type": "code",
   "execution_count": 7,
   "id": "7df7db47",
   "metadata": {},
   "outputs": [
    {
     "name": "stdout",
     "output_type": "stream",
     "text": [
      "(60000,)\n"
     ]
    }
   ],
   "source": [
    "print(y_train.shape)"
   ]
  },
  {
   "cell_type": "code",
   "execution_count": 8,
   "id": "200ac745",
   "metadata": {},
   "outputs": [
    {
     "name": "stdout",
     "output_type": "stream",
     "text": [
      "(10000, 784)\n"
     ]
    }
   ],
   "source": [
    "print(x_test.shape)"
   ]
  },
  {
   "cell_type": "code",
   "execution_count": 9,
   "id": "49c2e3ec",
   "metadata": {},
   "outputs": [
    {
     "name": "stdout",
     "output_type": "stream",
     "text": [
      "(10000,)\n"
     ]
    }
   ],
   "source": [
    "print(y_test.shape)"
   ]
  },
  {
   "cell_type": "code",
   "execution_count": 12,
   "id": "c378783a",
   "metadata": {},
   "outputs": [
    {
     "data": {
      "text/html": [
       "<style>#sk-container-id-1 {color: black;background-color: white;}#sk-container-id-1 pre{padding: 0;}#sk-container-id-1 div.sk-toggleable {background-color: white;}#sk-container-id-1 label.sk-toggleable__label {cursor: pointer;display: block;width: 100%;margin-bottom: 0;padding: 0.3em;box-sizing: border-box;text-align: center;}#sk-container-id-1 label.sk-toggleable__label-arrow:before {content: \"▸\";float: left;margin-right: 0.25em;color: #696969;}#sk-container-id-1 label.sk-toggleable__label-arrow:hover:before {color: black;}#sk-container-id-1 div.sk-estimator:hover label.sk-toggleable__label-arrow:before {color: black;}#sk-container-id-1 div.sk-toggleable__content {max-height: 0;max-width: 0;overflow: hidden;text-align: left;background-color: #f0f8ff;}#sk-container-id-1 div.sk-toggleable__content pre {margin: 0.2em;color: black;border-radius: 0.25em;background-color: #f0f8ff;}#sk-container-id-1 input.sk-toggleable__control:checked~div.sk-toggleable__content {max-height: 200px;max-width: 100%;overflow: auto;}#sk-container-id-1 input.sk-toggleable__control:checked~label.sk-toggleable__label-arrow:before {content: \"▾\";}#sk-container-id-1 div.sk-estimator input.sk-toggleable__control:checked~label.sk-toggleable__label {background-color: #d4ebff;}#sk-container-id-1 div.sk-label input.sk-toggleable__control:checked~label.sk-toggleable__label {background-color: #d4ebff;}#sk-container-id-1 input.sk-hidden--visually {border: 0;clip: rect(1px 1px 1px 1px);clip: rect(1px, 1px, 1px, 1px);height: 1px;margin: -1px;overflow: hidden;padding: 0;position: absolute;width: 1px;}#sk-container-id-1 div.sk-estimator {font-family: monospace;background-color: #f0f8ff;border: 1px dotted black;border-radius: 0.25em;box-sizing: border-box;margin-bottom: 0.5em;}#sk-container-id-1 div.sk-estimator:hover {background-color: #d4ebff;}#sk-container-id-1 div.sk-parallel-item::after {content: \"\";width: 100%;border-bottom: 1px solid gray;flex-grow: 1;}#sk-container-id-1 div.sk-label:hover label.sk-toggleable__label {background-color: #d4ebff;}#sk-container-id-1 div.sk-serial::before {content: \"\";position: absolute;border-left: 1px solid gray;box-sizing: border-box;top: 0;bottom: 0;left: 50%;z-index: 0;}#sk-container-id-1 div.sk-serial {display: flex;flex-direction: column;align-items: center;background-color: white;padding-right: 0.2em;padding-left: 0.2em;position: relative;}#sk-container-id-1 div.sk-item {position: relative;z-index: 1;}#sk-container-id-1 div.sk-parallel {display: flex;align-items: stretch;justify-content: center;background-color: white;position: relative;}#sk-container-id-1 div.sk-item::before, #sk-container-id-1 div.sk-parallel-item::before {content: \"\";position: absolute;border-left: 1px solid gray;box-sizing: border-box;top: 0;bottom: 0;left: 50%;z-index: -1;}#sk-container-id-1 div.sk-parallel-item {display: flex;flex-direction: column;z-index: 1;position: relative;background-color: white;}#sk-container-id-1 div.sk-parallel-item:first-child::after {align-self: flex-end;width: 50%;}#sk-container-id-1 div.sk-parallel-item:last-child::after {align-self: flex-start;width: 50%;}#sk-container-id-1 div.sk-parallel-item:only-child::after {width: 0;}#sk-container-id-1 div.sk-dashed-wrapped {border: 1px dashed gray;margin: 0 0.4em 0.5em 0.4em;box-sizing: border-box;padding-bottom: 0.4em;background-color: white;}#sk-container-id-1 div.sk-label label {font-family: monospace;font-weight: bold;display: inline-block;line-height: 1.2em;}#sk-container-id-1 div.sk-label-container {text-align: center;}#sk-container-id-1 div.sk-container {/* jupyter's `normalize.less` sets `[hidden] { display: none; }` but bootstrap.min.css set `[hidden] { display: none !important; }` so we also need the `!important` here to be able to override the default hidden behavior on the sphinx rendered scikit-learn.org. See: https://github.com/scikit-learn/scikit-learn/issues/21755 */display: inline-block !important;position: relative;}#sk-container-id-1 div.sk-text-repr-fallback {display: none;}</style><div id=\"sk-container-id-1\" class=\"sk-top-container\"><div class=\"sk-text-repr-fallback\"><pre>XGBClassifier(base_score=0.5, booster=&#x27;gbtree&#x27;, callbacks=None,\n",
       "              colsample_bylevel=1, colsample_bynode=1, colsample_bytree=1,\n",
       "              early_stopping_rounds=None, enable_categorical=False,\n",
       "              eval_metric=None, gamma=0, gpu_id=-1, grow_policy=&#x27;depthwise&#x27;,\n",
       "              importance_type=None, interaction_constraints=&#x27;&#x27;,\n",
       "              learning_rate=0.300000012, max_bin=256, max_cat_to_onehot=4,\n",
       "              max_delta_step=0, max_depth=6, max_leaves=0, min_child_weight=1,\n",
       "              missing=nan, monotone_constraints=&#x27;()&#x27;, n_estimators=100,\n",
       "              n_jobs=0, num_parallel_tree=1, objective=&#x27;multi:softprob&#x27;,\n",
       "              predictor=&#x27;auto&#x27;, random_state=0, reg_alpha=0, ...)</pre><b>In a Jupyter environment, please rerun this cell to show the HTML representation or trust the notebook. <br />On GitHub, the HTML representation is unable to render, please try loading this page with nbviewer.org.</b></div><div class=\"sk-container\" hidden><div class=\"sk-item\"><div class=\"sk-estimator sk-toggleable\"><input class=\"sk-toggleable__control sk-hidden--visually\" id=\"sk-estimator-id-1\" type=\"checkbox\" checked><label for=\"sk-estimator-id-1\" class=\"sk-toggleable__label sk-toggleable__label-arrow\">XGBClassifier</label><div class=\"sk-toggleable__content\"><pre>XGBClassifier(base_score=0.5, booster=&#x27;gbtree&#x27;, callbacks=None,\n",
       "              colsample_bylevel=1, colsample_bynode=1, colsample_bytree=1,\n",
       "              early_stopping_rounds=None, enable_categorical=False,\n",
       "              eval_metric=None, gamma=0, gpu_id=-1, grow_policy=&#x27;depthwise&#x27;,\n",
       "              importance_type=None, interaction_constraints=&#x27;&#x27;,\n",
       "              learning_rate=0.300000012, max_bin=256, max_cat_to_onehot=4,\n",
       "              max_delta_step=0, max_depth=6, max_leaves=0, min_child_weight=1,\n",
       "              missing=nan, monotone_constraints=&#x27;()&#x27;, n_estimators=100,\n",
       "              n_jobs=0, num_parallel_tree=1, objective=&#x27;multi:softprob&#x27;,\n",
       "              predictor=&#x27;auto&#x27;, random_state=0, reg_alpha=0, ...)</pre></div></div></div></div></div>"
      ],
      "text/plain": [
       "XGBClassifier(base_score=0.5, booster='gbtree', callbacks=None,\n",
       "              colsample_bylevel=1, colsample_bynode=1, colsample_bytree=1,\n",
       "              early_stopping_rounds=None, enable_categorical=False,\n",
       "              eval_metric=None, gamma=0, gpu_id=-1, grow_policy='depthwise',\n",
       "              importance_type=None, interaction_constraints='',\n",
       "              learning_rate=0.300000012, max_bin=256, max_cat_to_onehot=4,\n",
       "              max_delta_step=0, max_depth=6, max_leaves=0, min_child_weight=1,\n",
       "              missing=nan, monotone_constraints='()', n_estimators=100,\n",
       "              n_jobs=0, num_parallel_tree=1, objective='multi:softprob',\n",
       "              predictor='auto', random_state=0, reg_alpha=0, ...)"
      ]
     },
     "execution_count": 12,
     "metadata": {},
     "output_type": "execute_result"
    }
   ],
   "source": [
    "from xgboost import XGBClassifier\n",
    "import timeit\n",
    "start = timeit.timeit()\n",
    "model = XGBClassifier()\n",
    "model.fit(x_train, y_train)"
   ]
  },
  {
   "cell_type": "code",
   "execution_count": 13,
   "id": "03e94635",
   "metadata": {},
   "outputs": [
    {
     "name": "stdout",
     "output_type": "stream",
     "text": [
      "0.020902899999896363\n"
     ]
    }
   ],
   "source": [
    "end = timeit.timeit()\n",
    "print(end - start)"
   ]
  },
  {
   "cell_type": "code",
   "execution_count": 30,
   "id": "a87414a4",
   "metadata": {},
   "outputs": [],
   "source": [
    "#!pip install xgboost"
   ]
  },
  {
   "cell_type": "code",
   "execution_count": 14,
   "id": "8d6b9f09",
   "metadata": {},
   "outputs": [],
   "source": [
    "y_pred=model.predict(x_test)"
   ]
  },
  {
   "cell_type": "code",
   "execution_count": null,
   "id": "27ac952b",
   "metadata": {},
   "outputs": [],
   "source": []
  },
  {
   "cell_type": "code",
   "execution_count": 15,
   "id": "328eff87",
   "metadata": {
    "scrolled": true
   },
   "outputs": [
    {
     "name": "stdout",
     "output_type": "stream",
     "text": [
      "Accuracy: 97.80%\n"
     ]
    }
   ],
   "source": [
    "from sklearn.metrics import accuracy_score\n",
    "accuracy = accuracy_score(y_test, y_pred)\n",
    "print(\"Accuracy: %.2f%%\" % (accuracy * 100.0))"
   ]
  },
  {
   "cell_type": "code",
   "execution_count": 16,
   "id": "042e9a64",
   "metadata": {},
   "outputs": [
    {
     "name": "stdout",
     "output_type": "stream",
     "text": [
      "Confusion Matrix\n",
      "\n",
      "[[ 969    1    0    0    0    3    4    1    2    0]\n",
      " [   1 1124    2    3    0    1    3    1    0    0]\n",
      " [   5    0 1006    9    1    0    0    5    5    1]\n",
      " [   0    0    2  992    0    3    0    6    4    3]\n",
      " [   0    0    3    0  957    0    4    1    2   15]\n",
      " [   2    0    1    5    0  869    6    3    4    2]\n",
      " [   7    3    0    0    2    3  939    0    4    0]\n",
      " [   1    1   14    3    2    0    0  998    2    7]\n",
      " [   4    1    3    2    3    3    2    2  948    6]\n",
      " [   6    5    1    5    7    1    0    3    3  978]]\n"
     ]
    }
   ],
   "source": [
    "from sklearn.metrics import confusion_matrix\n",
    "confusion = confusion_matrix(y_test, y_pred)\n",
    "print('Confusion Matrix\\n')\n",
    "print(confusion)"
   ]
  },
  {
   "cell_type": "markdown",
   "id": "200d12f2",
   "metadata": {},
   "source": [
    "# Neural Network for MNIST"
   ]
  },
  {
   "cell_type": "code",
   "execution_count": 17,
   "id": "fbfadbf2",
   "metadata": {},
   "outputs": [
    {
     "name": "stdout",
     "output_type": "stream",
     "text": [
      "Training data shape:  (60000, 28, 28)\n",
      "Test data shape (10000, 28, 28)\n"
     ]
    }
   ],
   "source": [
    "from keras.datasets import mnist\n",
    "\n",
    "# Setup train and test splits\n",
    "(x_train, y_train), (x_test, y_test) = mnist.load_data()\n",
    "print(\"Training data shape: \", x_train.shape) # (60000, 28, 28) -- 60000 images, each 28x28 pixels\n",
    "print(\"Test data shape\", x_test.shape) # (10000, 28, 28) -- 10000 images, each 28x28\n",
    "x_train = x_train/255.0\n",
    "x_test = x_test/255.0\n",
    "\n",
    "# Flatten the images\n",
    "image_vector_size = 28*28\n",
    "x_train = x_train.reshape(x_train.shape[0], image_vector_size)\n",
    "x_test = x_test.reshape(x_test.shape[0], image_vector_size)"
   ]
  },
  {
   "cell_type": "code",
   "execution_count": 18,
   "id": "bc347576",
   "metadata": {},
   "outputs": [],
   "source": [
    "# Convert to \"one-hot\" vectors using the to_categorical function\n",
    "num_classes = 10\n",
    "y_train = tf.keras.utils.to_categorical(y_train, num_classes)\n",
    "y_test = tf.keras.utils.to_categorical(y_test, num_classes)"
   ]
  },
  {
   "cell_type": "code",
   "execution_count": 19,
   "id": "32eafe54",
   "metadata": {},
   "outputs": [],
   "source": [
    "image_size = 784 # 28*28\n",
    "num_classes = 10 # ten unique digits"
   ]
  },
  {
   "cell_type": "code",
   "execution_count": 20,
   "id": "fc352d9c",
   "metadata": {},
   "outputs": [
    {
     "name": "stdout",
     "output_type": "stream",
     "text": [
      "Model: \"sequential\"\n",
      "_________________________________________________________________\n",
      " Layer (type)                Output Shape              Param #   \n",
      "=================================================================\n",
      " dense (Dense)               (None, 784)               615440    \n",
      "                                                                 \n",
      " dense_1 (Dense)             (None, 350)               274750    \n",
      "                                                                 \n",
      " dense_2 (Dense)             (None, 120)               42120     \n",
      "                                                                 \n",
      " dense_3 (Dense)             (None, 10)                1210      \n",
      "                                                                 \n",
      "=================================================================\n",
      "Total params: 933,520\n",
      "Trainable params: 933,520\n",
      "Non-trainable params: 0\n",
      "_________________________________________________________________\n"
     ]
    }
   ],
   "source": [
    "model2 = Sequential()\n",
    "\n",
    "# The input layer requires the special input_shape parameter which should match\n",
    "# the shape of our training data.\n",
    "model2.add(Dense(units=784, activation='sigmoid', input_shape=(image_size,)))\n",
    "model2.add(Dense(units=350, activation='sigmoid'))\n",
    "model2.add(Dense(units=120, activation='sigmoid'))\n",
    "model2.add(Dense(units=10, activation='softmax'))\n",
    "model2.summary()"
   ]
  },
  {
   "cell_type": "code",
   "execution_count": 21,
   "id": "fc626723",
   "metadata": {},
   "outputs": [
    {
     "name": "stdout",
     "output_type": "stream",
     "text": [
      "Epoch 1/50\n",
      "938/938 [==============================] - 9s 8ms/step - loss: 0.4234 - accuracy: 0.8780 - auc: 0.9893 - precision: 0.9375 - recall: 0.8166 - val_loss: 0.1946 - val_accuracy: 0.9429 - val_auc: 0.9966 - val_precision: 0.9540 - val_recall: 0.9334\n",
      "Epoch 2/50\n",
      "938/938 [==============================] - 6s 6ms/step - loss: 0.1617 - accuracy: 0.9510 - auc: 0.9972 - precision: 0.9603 - recall: 0.9438 - val_loss: 0.1303 - val_accuracy: 0.9607 - val_auc: 0.9978 - val_precision: 0.9658 - val_recall: 0.9550\n",
      "Epoch 3/50\n",
      "938/938 [==============================] - 6s 6ms/step - loss: 0.1066 - accuracy: 0.9677 - auc: 0.9983 - precision: 0.9734 - recall: 0.9637 - val_loss: 0.0985 - val_accuracy: 0.9697 - val_auc: 0.9987 - val_precision: 0.9734 - val_recall: 0.9666\n",
      "Epoch 4/50\n",
      "938/938 [==============================] - 6s 6ms/step - loss: 0.0769 - accuracy: 0.9765 - auc: 0.9990 - precision: 0.9796 - recall: 0.9737 - val_loss: 0.0900 - val_accuracy: 0.9728 - val_auc: 0.9983 - val_precision: 0.9763 - val_recall: 0.9709\n",
      "Epoch 5/50\n",
      "938/938 [==============================] - 6s 6ms/step - loss: 0.0583 - accuracy: 0.9822 - auc: 0.9993 - precision: 0.9851 - recall: 0.9802 - val_loss: 0.0748 - val_accuracy: 0.9780 - val_auc: 0.9984 - val_precision: 0.9804 - val_recall: 0.9759\n",
      "Epoch 6/50\n",
      "938/938 [==============================] - 6s 6ms/step - loss: 0.0451 - accuracy: 0.9857 - auc: 0.9995 - precision: 0.9875 - recall: 0.9840 - val_loss: 0.0736 - val_accuracy: 0.9767 - val_auc: 0.9985 - val_precision: 0.9779 - val_recall: 0.9755\n",
      "Epoch 7/50\n",
      "938/938 [==============================] - 6s 6ms/step - loss: 0.0341 - accuracy: 0.9895 - auc: 0.9997 - precision: 0.9907 - recall: 0.9886 - val_loss: 0.0716 - val_accuracy: 0.9777 - val_auc: 0.9984 - val_precision: 0.9802 - val_recall: 0.9764\n",
      "Epoch 8/50\n",
      "938/938 [==============================] - 6s 6ms/step - loss: 0.0281 - accuracy: 0.9911 - auc: 0.9997 - precision: 0.9921 - recall: 0.9901 - val_loss: 0.0652 - val_accuracy: 0.9804 - val_auc: 0.9981 - val_precision: 0.9825 - val_recall: 0.9795\n",
      "Epoch 9/50\n",
      "938/938 [==============================] - 6s 6ms/step - loss: 0.0210 - accuracy: 0.9935 - auc: 0.9998 - precision: 0.9943 - recall: 0.9929 - val_loss: 0.0729 - val_accuracy: 0.9795 - val_auc: 0.9978 - val_precision: 0.9808 - val_recall: 0.9784\n",
      "Epoch 10/50\n",
      "938/938 [==============================] - 6s 6ms/step - loss: 0.0187 - accuracy: 0.9941 - auc: 0.9998 - precision: 0.9946 - recall: 0.9936 - val_loss: 0.0747 - val_accuracy: 0.9811 - val_auc: 0.9976 - val_precision: 0.9819 - val_recall: 0.9806\n",
      "Epoch 11/50\n",
      "938/938 [==============================] - 6s 6ms/step - loss: 0.0145 - accuracy: 0.9955 - auc: 0.9998 - precision: 0.9958 - recall: 0.9951 - val_loss: 0.0767 - val_accuracy: 0.9796 - val_auc: 0.9974 - val_precision: 0.9813 - val_recall: 0.9787\n",
      "Epoch 12/50\n",
      "938/938 [==============================] - 6s 6ms/step - loss: 0.0132 - accuracy: 0.9959 - auc: 0.9999 - precision: 0.9963 - recall: 0.9957 - val_loss: 0.0800 - val_accuracy: 0.9799 - val_auc: 0.9972 - val_precision: 0.9810 - val_recall: 0.9786\n",
      "Epoch 13/50\n",
      "938/938 [==============================] - 6s 6ms/step - loss: 0.0114 - accuracy: 0.9962 - auc: 0.9999 - precision: 0.9964 - recall: 0.9959 - val_loss: 0.0879 - val_accuracy: 0.9786 - val_auc: 0.9968 - val_precision: 0.9795 - val_recall: 0.9782\n",
      "Epoch 14/50\n",
      "938/938 [==============================] - 6s 6ms/step - loss: 0.0089 - accuracy: 0.9970 - auc: 0.9999 - precision: 0.9972 - recall: 0.9969 - val_loss: 0.0848 - val_accuracy: 0.9801 - val_auc: 0.9968 - val_precision: 0.9811 - val_recall: 0.9795\n",
      "Epoch 15/50\n",
      "938/938 [==============================] - 6s 6ms/step - loss: 0.0101 - accuracy: 0.9966 - auc: 0.9999 - precision: 0.9968 - recall: 0.9966 - val_loss: 0.0868 - val_accuracy: 0.9788 - val_auc: 0.9970 - val_precision: 0.9802 - val_recall: 0.9786\n",
      "Epoch 16/50\n",
      "938/938 [==============================] - 6s 6ms/step - loss: 0.0075 - accuracy: 0.9976 - auc: 0.9999 - precision: 0.9977 - recall: 0.9975 - val_loss: 0.0769 - val_accuracy: 0.9831 - val_auc: 0.9971 - val_precision: 0.9841 - val_recall: 0.9827\n",
      "Epoch 17/50\n",
      "938/938 [==============================] - 6s 6ms/step - loss: 0.0054 - accuracy: 0.9983 - auc: 1.0000 - precision: 0.9983 - recall: 0.9982 - val_loss: 0.0904 - val_accuracy: 0.9799 - val_auc: 0.9963 - val_precision: 0.9802 - val_recall: 0.9793\n",
      "Epoch 18/50\n",
      "938/938 [==============================] - 6s 6ms/step - loss: 0.0077 - accuracy: 0.9977 - auc: 0.9999 - precision: 0.9979 - recall: 0.9977 - val_loss: 0.0792 - val_accuracy: 0.9823 - val_auc: 0.9969 - val_precision: 0.9832 - val_recall: 0.9822\n",
      "Epoch 19/50\n",
      "938/938 [==============================] - 6s 6ms/step - loss: 0.0051 - accuracy: 0.9986 - auc: 0.9999 - precision: 0.9986 - recall: 0.9985 - val_loss: 0.0858 - val_accuracy: 0.9819 - val_auc: 0.9966 - val_precision: 0.9823 - val_recall: 0.9814\n",
      "Epoch 20/50\n",
      "938/938 [==============================] - 6s 6ms/step - loss: 0.0074 - accuracy: 0.9976 - auc: 0.9999 - precision: 0.9977 - recall: 0.9975 - val_loss: 0.0831 - val_accuracy: 0.9842 - val_auc: 0.9965 - val_precision: 0.9845 - val_recall: 0.9839\n",
      "Epoch 21/50\n",
      "938/938 [==============================] - 6s 6ms/step - loss: 0.0040 - accuracy: 0.9988 - auc: 0.9999 - precision: 0.9989 - recall: 0.9987 - val_loss: 0.0978 - val_accuracy: 0.9806 - val_auc: 0.9957 - val_precision: 0.9812 - val_recall: 0.9802\n",
      "Epoch 22/50\n",
      "938/938 [==============================] - 6s 6ms/step - loss: 0.0038 - accuracy: 0.9988 - auc: 1.0000 - precision: 0.9988 - recall: 0.9988 - val_loss: 0.0863 - val_accuracy: 0.9834 - val_auc: 0.9966 - val_precision: 0.9835 - val_recall: 0.9829\n",
      "Epoch 23/50\n",
      "938/938 [==============================] - 6s 6ms/step - loss: 0.0043 - accuracy: 0.9987 - auc: 0.9999 - precision: 0.9987 - recall: 0.9986 - val_loss: 0.0995 - val_accuracy: 0.9810 - val_auc: 0.9959 - val_precision: 0.9816 - val_recall: 0.9809\n",
      "Epoch 24/50\n",
      "938/938 [==============================] - 6s 6ms/step - loss: 0.0052 - accuracy: 0.9981 - auc: 0.9999 - precision: 0.9982 - recall: 0.9981 - val_loss: 0.0898 - val_accuracy: 0.9821 - val_auc: 0.9962 - val_precision: 0.9829 - val_recall: 0.9817\n",
      "Epoch 25/50\n",
      "938/938 [==============================] - 6s 6ms/step - loss: 0.0025 - accuracy: 0.9993 - auc: 1.0000 - precision: 0.9994 - recall: 0.9993 - val_loss: 0.1111 - val_accuracy: 0.9803 - val_auc: 0.9952 - val_precision: 0.9808 - val_recall: 0.9802\n",
      "Epoch 26/50\n",
      "938/938 [==============================] - 6s 6ms/step - loss: 0.0054 - accuracy: 0.9983 - auc: 0.9999 - precision: 0.9984 - recall: 0.9983 - val_loss: 0.0978 - val_accuracy: 0.9809 - val_auc: 0.9961 - val_precision: 0.9815 - val_recall: 0.9805\n",
      "Epoch 27/50\n",
      "938/938 [==============================] - 6s 6ms/step - loss: 0.0031 - accuracy: 0.9990 - auc: 1.0000 - precision: 0.9990 - recall: 0.9990 - val_loss: 0.0929 - val_accuracy: 0.9825 - val_auc: 0.9959 - val_precision: 0.9827 - val_recall: 0.9822\n",
      "Epoch 28/50\n",
      "938/938 [==============================] - 6s 6ms/step - loss: 0.0059 - accuracy: 0.9982 - auc: 0.9999 - precision: 0.9982 - recall: 0.9981 - val_loss: 0.0964 - val_accuracy: 0.9804 - val_auc: 0.9962 - val_precision: 0.9810 - val_recall: 0.9801\n",
      "Epoch 29/50\n",
      "938/938 [==============================] - 6s 6ms/step - loss: 0.0031 - accuracy: 0.9990 - auc: 1.0000 - precision: 0.9990 - recall: 0.9989 - val_loss: 0.0952 - val_accuracy: 0.9820 - val_auc: 0.9960 - val_precision: 0.9825 - val_recall: 0.9817\n",
      "Epoch 30/50\n",
      "938/938 [==============================] - 6s 6ms/step - loss: 0.0014 - accuracy: 0.9997 - auc: 1.0000 - precision: 0.9997 - recall: 0.9996 - val_loss: 0.0927 - val_accuracy: 0.9828 - val_auc: 0.9962 - val_precision: 0.9832 - val_recall: 0.9822\n",
      "Epoch 31/50\n",
      "938/938 [==============================] - 6s 6ms/step - loss: 4.6224e-04 - accuracy: 0.9999 - auc: 1.0000 - precision: 0.9999 - recall: 0.9999 - val_loss: 0.0893 - val_accuracy: 0.9831 - val_auc: 0.9960 - val_precision: 0.9837 - val_recall: 0.9829\n",
      "Epoch 32/50\n",
      "938/938 [==============================] - 6s 6ms/step - loss: 0.0069 - accuracy: 0.9979 - auc: 0.9998 - precision: 0.9979 - recall: 0.9978 - val_loss: 0.1008 - val_accuracy: 0.9822 - val_auc: 0.9960 - val_precision: 0.9829 - val_recall: 0.9821\n",
      "Epoch 33/50\n",
      "938/938 [==============================] - 6s 6ms/step - loss: 0.0034 - accuracy: 0.9989 - auc: 0.9999 - precision: 0.9989 - recall: 0.9989 - val_loss: 0.0917 - val_accuracy: 0.9847 - val_auc: 0.9962 - val_precision: 0.9851 - val_recall: 0.9846\n",
      "Epoch 34/50\n",
      "938/938 [==============================] - 6s 6ms/step - loss: 9.4528e-04 - accuracy: 0.9998 - auc: 1.0000 - precision: 0.9998 - recall: 0.9998 - val_loss: 0.0892 - val_accuracy: 0.9852 - val_auc: 0.9954 - val_precision: 0.9857 - val_recall: 0.9851\n",
      "Epoch 35/50\n",
      "938/938 [==============================] - 6s 7ms/step - loss: 0.0054 - accuracy: 0.9984 - auc: 0.9999 - precision: 0.9984 - recall: 0.9984 - val_loss: 0.1003 - val_accuracy: 0.9823 - val_auc: 0.9958 - val_precision: 0.9830 - val_recall: 0.9821\n",
      "Epoch 36/50\n",
      "938/938 [==============================] - 7s 8ms/step - loss: 0.0017 - accuracy: 0.9996 - auc: 1.0000 - precision: 0.9996 - recall: 0.9995 - val_loss: 0.0979 - val_accuracy: 0.9833 - val_auc: 0.9957 - val_precision: 0.9836 - val_recall: 0.9831\n",
      "Epoch 37/50\n",
      "938/938 [==============================] - 7s 7ms/step - loss: 0.0042 - accuracy: 0.9988 - auc: 0.9999 - precision: 0.9988 - recall: 0.9987 - val_loss: 0.1014 - val_accuracy: 0.9814 - val_auc: 0.9960 - val_precision: 0.9818 - val_recall: 0.9812\n",
      "Epoch 38/50\n",
      "938/938 [==============================] - 8s 8ms/step - loss: 0.0029 - accuracy: 0.9992 - auc: 1.0000 - precision: 0.9992 - recall: 0.9992 - val_loss: 0.0864 - val_accuracy: 0.9844 - val_auc: 0.9965 - val_precision: 0.9847 - val_recall: 0.9843\n",
      "Epoch 39/50\n",
      "938/938 [==============================] - 8s 9ms/step - loss: 0.0018 - accuracy: 0.9994 - auc: 1.0000 - precision: 0.9994 - recall: 0.9994 - val_loss: 0.0845 - val_accuracy: 0.9858 - val_auc: 0.9963 - val_precision: 0.9859 - val_recall: 0.9855\n",
      "Epoch 40/50\n",
      "938/938 [==============================] - 8s 9ms/step - loss: 6.1194e-05 - accuracy: 1.0000 - auc: 1.0000 - precision: 1.0000 - recall: 1.0000 - val_loss: 0.0860 - val_accuracy: 0.9861 - val_auc: 0.9962 - val_precision: 0.9863 - val_recall: 0.9860\n",
      "Epoch 41/50\n",
      "938/938 [==============================] - 9s 9ms/step - loss: 2.6806e-05 - accuracy: 1.0000 - auc: 1.0000 - precision: 1.0000 - recall: 1.0000 - val_loss: 0.0872 - val_accuracy: 0.9863 - val_auc: 0.9961 - val_precision: 0.9863 - val_recall: 0.9860\n",
      "Epoch 42/50\n",
      "938/938 [==============================] - 8s 8ms/step - loss: 1.8764e-05 - accuracy: 1.0000 - auc: 1.0000 - precision: 1.0000 - recall: 1.0000 - val_loss: 0.0891 - val_accuracy: 0.9861 - val_auc: 0.9961 - val_precision: 0.9864 - val_recall: 0.9861\n",
      "Epoch 43/50\n",
      "938/938 [==============================] - 10s 11ms/step - loss: 1.3571e-05 - accuracy: 1.0000 - auc: 1.0000 - precision: 1.0000 - recall: 1.0000 - val_loss: 0.0908 - val_accuracy: 0.9862 - val_auc: 0.9959 - val_precision: 0.9865 - val_recall: 0.9862\n",
      "Epoch 44/50\n",
      "938/938 [==============================] - 9s 9ms/step - loss: 9.6626e-06 - accuracy: 1.0000 - auc: 1.0000 - precision: 1.0000 - recall: 1.0000 - val_loss: 0.0926 - val_accuracy: 0.9862 - val_auc: 0.9959 - val_precision: 0.9865 - val_recall: 0.9862\n",
      "Epoch 45/50\n",
      "938/938 [==============================] - 7s 7ms/step - loss: 6.8873e-06 - accuracy: 1.0000 - auc: 1.0000 - precision: 1.0000 - recall: 1.0000 - val_loss: 0.0947 - val_accuracy: 0.9862 - val_auc: 0.9958 - val_precision: 0.9865 - val_recall: 0.9862\n",
      "Epoch 46/50\n",
      "938/938 [==============================] - 7s 8ms/step - loss: 4.8354e-06 - accuracy: 1.0000 - auc: 1.0000 - precision: 1.0000 - recall: 1.0000 - val_loss: 0.0967 - val_accuracy: 0.9866 - val_auc: 0.9958 - val_precision: 0.9869 - val_recall: 0.9864\n",
      "Epoch 47/50\n",
      "938/938 [==============================] - 7s 7ms/step - loss: 3.3362e-06 - accuracy: 1.0000 - auc: 1.0000 - precision: 1.0000 - recall: 1.0000 - val_loss: 0.0990 - val_accuracy: 0.9864 - val_auc: 0.9956 - val_precision: 0.9868 - val_recall: 0.9864\n",
      "Epoch 48/50\n",
      "938/938 [==============================] - 7s 7ms/step - loss: 2.3186e-06 - accuracy: 1.0000 - auc: 1.0000 - precision: 1.0000 - recall: 1.0000 - val_loss: 0.1011 - val_accuracy: 0.9864 - val_auc: 0.9956 - val_precision: 0.9866 - val_recall: 0.9863\n",
      "Epoch 49/50\n",
      "938/938 [==============================] - 7s 7ms/step - loss: 1.5199e-06 - accuracy: 1.0000 - auc: 1.0000 - precision: 1.0000 - recall: 1.0000 - val_loss: 0.1036 - val_accuracy: 0.9864 - val_auc: 0.9955 - val_precision: 0.9865 - val_recall: 0.9862\n",
      "Epoch 50/50\n",
      "938/938 [==============================] - 6s 7ms/step - loss: 1.0386e-06 - accuracy: 1.0000 - auc: 1.0000 - precision: 1.0000 - recall: 1.0000 - val_loss: 0.1056 - val_accuracy: 0.9864 - val_auc: 0.9954 - val_precision: 0.9866 - val_recall: 0.9862\n"
     ]
    }
   ],
   "source": [
    "import timeit\n",
    "start = timeit.timeit()\n",
    "model2.compile(optimizer=\"adam\", loss='categorical_crossentropy', metrics=['accuracy','AUC','Precision','Recall']) #sgd\n",
    "history = model2.fit(x_train, y_train, batch_size=64, epochs=50, verbose=True,validation_data=(x_test, y_test) )#validation_split=.1\n",
    "#loss, accuracy  = model.evaluate(x_test, y_test, verbose=True)"
   ]
  },
  {
   "cell_type": "code",
   "execution_count": 22,
   "id": "f300e6f1",
   "metadata": {},
   "outputs": [
    {
     "name": "stdout",
     "output_type": "stream",
     "text": [
      "-0.0019270999999889682\n"
     ]
    }
   ],
   "source": [
    "end = timeit.timeit()\n",
    "print(abs(end - start))"
   ]
  },
  {
   "cell_type": "code",
   "execution_count": 23,
   "id": "c9856968",
   "metadata": {},
   "outputs": [],
   "source": [
    "#loss, accuracy  = model2.evaluate(x_test, y_test, verbose=True)"
   ]
  },
  {
   "cell_type": "code",
   "execution_count": 24,
   "id": "07a67026",
   "metadata": {},
   "outputs": [
    {
     "data": {
      "image/png": "[encoded data removed]",
      "text/plain": [
       "<Figure size 432x288 with 1 Axes>"
      ]
     },
     "metadata": {
      "needs_background": "light"
     },
     "output_type": "display_data"
    }
   ],
   "source": [
    "plt.plot(history.history['accuracy'])\n",
    "plt.plot(history.history['val_accuracy'])\n",
    "plt.title('model accuracy')\n",
    "plt.ylabel('accuracy')\n",
    "plt.xlabel('epoch')\n",
    "plt.legend(['training', 'validation'], loc='best')\n",
    "plt.show()"
   ]
  },
  {
   "cell_type": "markdown",
   "id": "b1d7d8e9",
   "metadata": {},
   "source": [
    "## Second NN model"
   ]
  },
  {
   "cell_type": "code",
   "execution_count": 25,
   "id": "507abb7f",
   "metadata": {},
   "outputs": [
    {
     "name": "stdout",
     "output_type": "stream",
     "text": [
      "Model: \"sequential_1\"\n",
      "_________________________________________________________________\n",
      " Layer (type)                Output Shape              Param #   \n",
      "=================================================================\n",
      " dense_4 (Dense)             (None, 784)               615440    \n",
      "                                                                 \n",
      " dense_5 (Dense)             (None, 500)               392500    \n",
      "                                                                 \n",
      " dense_6 (Dense)             (None, 250)               125250    \n",
      "                                                                 \n",
      " dense_7 (Dense)             (None, 100)               25100     \n",
      "                                                                 \n",
      " dense_8 (Dense)             (None, 10)                1010      \n",
      "                                                                 \n",
      "=================================================================\n",
      "Total params: 1,159,300\n",
      "Trainable params: 1,159,300\n",
      "Non-trainable params: 0\n",
      "_________________________________________________________________\n"
     ]
    }
   ],
   "source": [
    "model3 = Sequential()\n",
    "\n",
    "# The input layer requires the special input_shape parameter which should match\n",
    "# the shape of our training data.\n",
    "model3.add(Dense(units=784, activation='sigmoid', input_shape=(image_size,)))\n",
    "model3.add(Dense(units=500, activation='sigmoid'))\n",
    "model3.add(Dense(units=250, activation='sigmoid'))\n",
    "model3.add(Dense(units=100, activation='sigmoid'))\n",
    "model3.add(Dense(units=10, activation='softmax'))\n",
    "model3.summary()"
   ]
  },
  {
   "cell_type": "code",
   "execution_count": 26,
   "id": "2d86faf2",
   "metadata": {},
   "outputs": [
    {
     "name": "stdout",
     "output_type": "stream",
     "text": [
      "Epoch 1/50\n",
      "938/938 [==============================] - 7s 7ms/step - loss: 0.5144 - accuracy: 0.8423 - auc: 0.9843 - precision: 0.9278 - recall: 0.7809 - val_loss: 0.2141 - val_accuracy: 0.9368 - val_auc: 0.9957 - val_precision: 0.9479 - val_recall: 0.9281\n",
      "Epoch 2/50\n",
      "938/938 [==============================] - 7s 7ms/step - loss: 0.1674 - accuracy: 0.9507 - auc: 0.9968 - precision: 0.9591 - recall: 0.9438 - val_loss: 0.1432 - val_accuracy: 0.9549 - val_auc: 0.9977 - val_precision: 0.9623 - val_recall: 0.9485\n",
      "Epoch 3/50\n",
      "938/938 [==============================] - 7s 7ms/step - loss: 0.1122 - accuracy: 0.9673 - auc: 0.9980 - precision: 0.9727 - recall: 0.9629 - val_loss: 0.1203 - val_accuracy: 0.9629 - val_auc: 0.9976 - val_precision: 0.9682 - val_recall: 0.9590\n",
      "Epoch 4/50\n",
      "938/938 [==============================] - 6s 7ms/step - loss: 0.0846 - accuracy: 0.9749 - auc: 0.9986 - precision: 0.9786 - recall: 0.9722 - val_loss: 0.0966 - val_accuracy: 0.9717 - val_auc: 0.9980 - val_precision: 0.9752 - val_recall: 0.9683\n",
      "Epoch 5/50\n",
      "938/938 [==============================] - 7s 7ms/step - loss: 0.0628 - accuracy: 0.9809 - auc: 0.9992 - precision: 0.9836 - recall: 0.9791 - val_loss: 0.1027 - val_accuracy: 0.9685 - val_auc: 0.9979 - val_precision: 0.9728 - val_recall: 0.9662\n",
      "Epoch 6/50\n",
      "938/938 [==============================] - 7s 7ms/step - loss: 0.0510 - accuracy: 0.9847 - auc: 0.9993 - precision: 0.9866 - recall: 0.9829 - val_loss: 0.0857 - val_accuracy: 0.9761 - val_auc: 0.9974 - val_precision: 0.9781 - val_recall: 0.9746\n",
      "Epoch 7/50\n",
      "938/938 [==============================] - 7s 7ms/step - loss: 0.0399 - accuracy: 0.9877 - auc: 0.9994 - precision: 0.9893 - recall: 0.9865 - val_loss: 0.0790 - val_accuracy: 0.9791 - val_auc: 0.9978 - val_precision: 0.9806 - val_recall: 0.9775\n",
      "Epoch 8/50\n",
      "938/938 [==============================] - 8s 8ms/step - loss: 0.0330 - accuracy: 0.9898 - auc: 0.9996 - precision: 0.9910 - recall: 0.9888 - val_loss: 0.0747 - val_accuracy: 0.9793 - val_auc: 0.9982 - val_precision: 0.9809 - val_recall: 0.9780\n",
      "Epoch 9/50\n",
      "938/938 [==============================] - 7s 7ms/step - loss: 0.0274 - accuracy: 0.9915 - auc: 0.9996 - precision: 0.9927 - recall: 0.9908 - val_loss: 0.0856 - val_accuracy: 0.9788 - val_auc: 0.9969 - val_precision: 0.9797 - val_recall: 0.9773\n",
      "Epoch 10/50\n",
      "938/938 [==============================] - 7s 7ms/step - loss: 0.0237 - accuracy: 0.9928 - auc: 0.9997 - precision: 0.9935 - recall: 0.9923 - val_loss: 0.0745 - val_accuracy: 0.9807 - val_auc: 0.9977 - val_precision: 0.9823 - val_recall: 0.9802\n",
      "Epoch 11/50\n",
      "938/938 [==============================] - 7s 8ms/step - loss: 0.0193 - accuracy: 0.9940 - auc: 0.9997 - precision: 0.9944 - recall: 0.9936 - val_loss: 0.0835 - val_accuracy: 0.9770 - val_auc: 0.9974 - val_precision: 0.9785 - val_recall: 0.9761\n",
      "Epoch 12/50\n",
      "938/938 [==============================] - 6s 7ms/step - loss: 0.0177 - accuracy: 0.9942 - auc: 0.9998 - precision: 0.9947 - recall: 0.9937 - val_loss: 0.0835 - val_accuracy: 0.9792 - val_auc: 0.9971 - val_precision: 0.9803 - val_recall: 0.9777\n",
      "Epoch 13/50\n",
      "938/938 [==============================] - 6s 7ms/step - loss: 0.0143 - accuracy: 0.9952 - auc: 0.9998 - precision: 0.9956 - recall: 0.9949 - val_loss: 0.0883 - val_accuracy: 0.9789 - val_auc: 0.9965 - val_precision: 0.9798 - val_recall: 0.9785\n",
      "Epoch 14/50\n",
      "938/938 [==============================] - 7s 7ms/step - loss: 0.0128 - accuracy: 0.9961 - auc: 0.9999 - precision: 0.9963 - recall: 0.9959 - val_loss: 0.0871 - val_accuracy: 0.9802 - val_auc: 0.9967 - val_precision: 0.9813 - val_recall: 0.9800\n",
      "Epoch 15/50\n",
      "938/938 [==============================] - 6s 7ms/step - loss: 0.0118 - accuracy: 0.9962 - auc: 0.9998 - precision: 0.9965 - recall: 0.9961 - val_loss: 0.0994 - val_accuracy: 0.9768 - val_auc: 0.9963 - val_precision: 0.9783 - val_recall: 0.9761\n",
      "Epoch 16/50\n",
      "938/938 [==============================] - 7s 7ms/step - loss: 0.0109 - accuracy: 0.9966 - auc: 0.9998 - precision: 0.9968 - recall: 0.9964 - val_loss: 0.0938 - val_accuracy: 0.9800 - val_auc: 0.9958 - val_precision: 0.9812 - val_recall: 0.9793\n",
      "Epoch 17/50\n",
      "938/938 [==============================] - 6s 7ms/step - loss: 0.0091 - accuracy: 0.9971 - auc: 0.9999 - precision: 0.9973 - recall: 0.9970 - val_loss: 0.0982 - val_accuracy: 0.9799 - val_auc: 0.9959 - val_precision: 0.9808 - val_recall: 0.9796\n",
      "Epoch 18/50\n",
      "938/938 [==============================] - 7s 7ms/step - loss: 0.0087 - accuracy: 0.9974 - auc: 0.9999 - precision: 0.9976 - recall: 0.9972 - val_loss: 0.0876 - val_accuracy: 0.9821 - val_auc: 0.9962 - val_precision: 0.9823 - val_recall: 0.9817\n",
      "Epoch 19/50\n",
      "938/938 [==============================] - 7s 7ms/step - loss: 0.0084 - accuracy: 0.9974 - auc: 0.9999 - precision: 0.9975 - recall: 0.9973 - val_loss: 0.0870 - val_accuracy: 0.9824 - val_auc: 0.9964 - val_precision: 0.9826 - val_recall: 0.9820\n",
      "Epoch 20/50\n",
      "938/938 [==============================] - 7s 7ms/step - loss: 0.0082 - accuracy: 0.9976 - auc: 0.9998 - precision: 0.9977 - recall: 0.9975 - val_loss: 0.0917 - val_accuracy: 0.9794 - val_auc: 0.9962 - val_precision: 0.9803 - val_recall: 0.9788\n",
      "Epoch 21/50\n",
      "938/938 [==============================] - 7s 7ms/step - loss: 0.0082 - accuracy: 0.9975 - auc: 0.9999 - precision: 0.9976 - recall: 0.9974 - val_loss: 0.0987 - val_accuracy: 0.9785 - val_auc: 0.9960 - val_precision: 0.9791 - val_recall: 0.9781\n",
      "Epoch 22/50\n",
      "938/938 [==============================] - 7s 7ms/step - loss: 0.0062 - accuracy: 0.9980 - auc: 0.9999 - precision: 0.9982 - recall: 0.9980 - val_loss: 0.0941 - val_accuracy: 0.9796 - val_auc: 0.9960 - val_precision: 0.9803 - val_recall: 0.9793\n",
      "Epoch 23/50\n",
      "938/938 [==============================] - 7s 7ms/step - loss: 0.0066 - accuracy: 0.9981 - auc: 0.9999 - precision: 0.9982 - recall: 0.9981 - val_loss: 0.1124 - val_accuracy: 0.9768 - val_auc: 0.9957 - val_precision: 0.9777 - val_recall: 0.9766\n",
      "Epoch 24/50\n",
      "938/938 [==============================] - 7s 7ms/step - loss: 0.0063 - accuracy: 0.9979 - auc: 0.9999 - precision: 0.9980 - recall: 0.9978 - val_loss: 0.1081 - val_accuracy: 0.9804 - val_auc: 0.9950 - val_precision: 0.9805 - val_recall: 0.9804\n",
      "Epoch 25/50\n",
      "938/938 [==============================] - 6s 7ms/step - loss: 0.0050 - accuracy: 0.9985 - auc: 0.9999 - precision: 0.9986 - recall: 0.9985 - val_loss: 0.0853 - val_accuracy: 0.9834 - val_auc: 0.9964 - val_precision: 0.9842 - val_recall: 0.9830\n",
      "Epoch 26/50\n",
      "938/938 [==============================] - 7s 7ms/step - loss: 0.0039 - accuracy: 0.9989 - auc: 0.9999 - precision: 0.9990 - recall: 0.9989 - val_loss: 0.1199 - val_accuracy: 0.9779 - val_auc: 0.9948 - val_precision: 0.9783 - val_recall: 0.9776\n",
      "Epoch 27/50\n",
      "938/938 [==============================] - 7s 7ms/step - loss: 0.0058 - accuracy: 0.9982 - auc: 0.9999 - precision: 0.9982 - recall: 0.9981 - val_loss: 0.0918 - val_accuracy: 0.9821 - val_auc: 0.9961 - val_precision: 0.9823 - val_recall: 0.9818\n",
      "Epoch 28/50\n",
      "938/938 [==============================] - 7s 7ms/step - loss: 0.0048 - accuracy: 0.9987 - auc: 0.9999 - precision: 0.9987 - recall: 0.9987 - val_loss: 0.1020 - val_accuracy: 0.9807 - val_auc: 0.9954 - val_precision: 0.9811 - val_recall: 0.9804\n",
      "Epoch 29/50\n",
      "938/938 [==============================] - 7s 7ms/step - loss: 0.0053 - accuracy: 0.9984 - auc: 0.9999 - precision: 0.9984 - recall: 0.9983 - val_loss: 0.1171 - val_accuracy: 0.9769 - val_auc: 0.9947 - val_precision: 0.9775 - val_recall: 0.9765\n",
      "Epoch 30/50\n",
      "938/938 [==============================] - 6s 7ms/step - loss: 0.0034 - accuracy: 0.9991 - auc: 0.9999 - precision: 0.9991 - recall: 0.9990 - val_loss: 0.0945 - val_accuracy: 0.9827 - val_auc: 0.9956 - val_precision: 0.9835 - val_recall: 0.9825\n",
      "Epoch 31/50\n",
      "938/938 [==============================] - 7s 7ms/step - loss: 0.0052 - accuracy: 0.9986 - auc: 0.9999 - precision: 0.9986 - recall: 0.9985 - val_loss: 0.0873 - val_accuracy: 0.9829 - val_auc: 0.9961 - val_precision: 0.9835 - val_recall: 0.9825\n",
      "Epoch 32/50\n",
      "938/938 [==============================] - 7s 7ms/step - loss: 0.0051 - accuracy: 0.9984 - auc: 0.9999 - precision: 0.9984 - recall: 0.9984 - val_loss: 0.0869 - val_accuracy: 0.9832 - val_auc: 0.9961 - val_precision: 0.9836 - val_recall: 0.9829\n",
      "Epoch 33/50\n",
      "938/938 [==============================] - 7s 8ms/step - loss: 0.0018 - accuracy: 0.9994 - auc: 1.0000 - precision: 0.9994 - recall: 0.9994 - val_loss: 0.1043 - val_accuracy: 0.9807 - val_auc: 0.9953 - val_precision: 0.9812 - val_recall: 0.9804\n",
      "Epoch 34/50\n",
      "938/938 [==============================] - 7s 7ms/step - loss: 0.0046 - accuracy: 0.9987 - auc: 0.9999 - precision: 0.9987 - recall: 0.9987 - val_loss: 0.0959 - val_accuracy: 0.9816 - val_auc: 0.9957 - val_precision: 0.9818 - val_recall: 0.9813\n",
      "Epoch 35/50\n",
      "938/938 [==============================] - 7s 8ms/step - loss: 0.0043 - accuracy: 0.9987 - auc: 0.9999 - precision: 0.9987 - recall: 0.9987 - val_loss: 0.0830 - val_accuracy: 0.9847 - val_auc: 0.9961 - val_precision: 0.9851 - val_recall: 0.9846\n",
      "Epoch 36/50\n",
      "938/938 [==============================] - 8s 8ms/step - loss: 0.0029 - accuracy: 0.9992 - auc: 0.9999 - precision: 0.9992 - recall: 0.9992 - val_loss: 0.1109 - val_accuracy: 0.9802 - val_auc: 0.9952 - val_precision: 0.9809 - val_recall: 0.9799\n",
      "Epoch 37/50\n",
      "938/938 [==============================] - 7s 8ms/step - loss: 0.0050 - accuracy: 0.9985 - auc: 0.9999 - precision: 0.9986 - recall: 0.9985 - val_loss: 0.0963 - val_accuracy: 0.9826 - val_auc: 0.9955 - val_precision: 0.9831 - val_recall: 0.9825\n",
      "Epoch 38/50\n",
      "938/938 [==============================] - 8s 9ms/step - loss: 8.6851e-04 - accuracy: 0.9997 - auc: 1.0000 - precision: 0.9997 - recall: 0.9997 - val_loss: 0.0931 - val_accuracy: 0.9849 - val_auc: 0.9956 - val_precision: 0.9854 - val_recall: 0.9846\n",
      "Epoch 39/50\n",
      "938/938 [==============================] - 9s 10ms/step - loss: 2.4569e-04 - accuracy: 0.9999 - auc: 1.0000 - precision: 0.9999 - recall: 0.9999 - val_loss: 0.0946 - val_accuracy: 0.9851 - val_auc: 0.9957 - val_precision: 0.9853 - val_recall: 0.9849\n",
      "Epoch 40/50\n",
      "938/938 [==============================] - 10s 11ms/step - loss: 1.1505e-04 - accuracy: 1.0000 - auc: 1.0000 - precision: 1.0000 - recall: 1.0000 - val_loss: 0.0985 - val_accuracy: 0.9854 - val_auc: 0.9954 - val_precision: 0.9854 - val_recall: 0.9852\n",
      "Epoch 41/50\n",
      "938/938 [==============================] - 8s 9ms/step - loss: 5.1219e-05 - accuracy: 1.0000 - auc: 1.0000 - precision: 1.0000 - recall: 1.0000 - val_loss: 0.1012 - val_accuracy: 0.9851 - val_auc: 0.9955 - val_precision: 0.9854 - val_recall: 0.9849\n",
      "Epoch 42/50\n",
      "938/938 [==============================] - 8s 9ms/step - loss: 3.3023e-05 - accuracy: 1.0000 - auc: 1.0000 - precision: 1.0000 - recall: 1.0000 - val_loss: 0.1041 - val_accuracy: 0.9854 - val_auc: 0.9954 - val_precision: 0.9856 - val_recall: 0.9854\n",
      "Epoch 43/50\n",
      "938/938 [==============================] - 11s 11ms/step - loss: 1.6161e-05 - accuracy: 1.0000 - auc: 1.0000 - precision: 1.0000 - recall: 1.0000 - val_loss: 0.1079 - val_accuracy: 0.9854 - val_auc: 0.9951 - val_precision: 0.9855 - val_recall: 0.9854\n",
      "Epoch 44/50\n",
      "938/938 [==============================] - 10s 10ms/step - loss: 1.0536e-05 - accuracy: 1.0000 - auc: 1.0000 - precision: 1.0000 - recall: 1.0000 - val_loss: 0.1103 - val_accuracy: 0.9849 - val_auc: 0.9952 - val_precision: 0.9853 - val_recall: 0.9849\n",
      "Epoch 45/50\n",
      "938/938 [==============================] - 7s 8ms/step - loss: 6.4682e-06 - accuracy: 1.0000 - auc: 1.0000 - precision: 1.0000 - recall: 1.0000 - val_loss: 0.1143 - val_accuracy: 0.9855 - val_auc: 0.9950 - val_precision: 0.9855 - val_recall: 0.9854\n",
      "Epoch 46/50\n",
      "938/938 [==============================] - 7s 7ms/step - loss: 3.9462e-06 - accuracy: 1.0000 - auc: 1.0000 - precision: 1.0000 - recall: 1.0000 - val_loss: 0.1179 - val_accuracy: 0.9853 - val_auc: 0.9947 - val_precision: 0.9854 - val_recall: 0.9853\n",
      "Epoch 47/50\n",
      "938/938 [==============================] - 7s 8ms/step - loss: 2.5613e-06 - accuracy: 1.0000 - auc: 1.0000 - precision: 1.0000 - recall: 1.0000 - val_loss: 0.1215 - val_accuracy: 0.9850 - val_auc: 0.9947 - val_precision: 0.9853 - val_recall: 0.9849\n",
      "Epoch 48/50\n",
      "938/938 [==============================] - 7s 7ms/step - loss: 1.7272e-06 - accuracy: 1.0000 - auc: 1.0000 - precision: 1.0000 - recall: 1.0000 - val_loss: 0.1245 - val_accuracy: 0.9851 - val_auc: 0.9946 - val_precision: 0.9853 - val_recall: 0.9851\n",
      "Epoch 49/50\n",
      "938/938 [==============================] - 7s 7ms/step - loss: 1.1224e-06 - accuracy: 1.0000 - auc: 1.0000 - precision: 1.0000 - recall: 1.0000 - val_loss: 0.1280 - val_accuracy: 0.9852 - val_auc: 0.9946 - val_precision: 0.9853 - val_recall: 0.9851\n",
      "Epoch 50/50\n",
      "938/938 [==============================] - 7s 7ms/step - loss: 7.6626e-07 - accuracy: 1.0000 - auc: 1.0000 - precision: 1.0000 - recall: 1.0000 - val_loss: 0.1307 - val_accuracy: 0.9856 - val_auc: 0.9945 - val_precision: 0.9857 - val_recall: 0.9855\n"
     ]
    }
   ],
   "source": [
    "model3.compile(optimizer=\"adam\", loss='categorical_crossentropy', metrics=['accuracy','AUC','Precision','Recall'])\n",
    "import timeit\n",
    "start = timeit.timeit()\n",
    "history2 = model3.fit(x_train, y_train, batch_size=64, epochs=50, verbose=True,validation_data=(x_test, y_test) )#validation_split=.1\n",
    "#loss, accuracy  = model.evaluate(x_test, y_test, verbose=True)"
   ]
  },
  {
   "cell_type": "code",
   "execution_count": 27,
   "id": "b70c85e8",
   "metadata": {},
   "outputs": [
    {
     "name": "stdout",
     "output_type": "stream",
     "text": [
      "-0.0007018999999672815\n"
     ]
    }
   ],
   "source": [
    "end = timeit.timeit()\n",
    "print(abs(end - start))"
   ]
  },
  {
   "cell_type": "code",
   "execution_count": 28,
   "id": "f3909f61",
   "metadata": {},
   "outputs": [],
   "source": [
    "#loss2, accuracy2  = model3.evaluate(x_test, y_test, verbose=True)"
   ]
  },
  {
   "cell_type": "code",
   "execution_count": 29,
   "id": "fdb4d81e",
   "metadata": {},
   "outputs": [
    {
     "data": {
      "image/png": "[encoded data removed]",
      "text/plain": [
       "<Figure size 432x288 with 1 Axes>"
      ]
     },
     "metadata": {
      "needs_background": "light"
     },
     "output_type": "display_data"
    }
   ],
   "source": [
    "plt.plot(history2.history['accuracy'])\n",
    "plt.plot(history2.history['val_accuracy'])\n",
    "plt.title('model accuracy')\n",
    "plt.ylabel('accuracy')\n",
    "plt.xlabel('epoch')\n",
    "plt.legend(['training', 'validation'], loc='best')\n",
    "plt.show()"
   ]
  }
 ],
 "metadata": {
  "kernelspec": {
   "display_name": "Python 3 (ipykernel)",
   "language": "python",
   "name": "python3"
  },
  "language_info": {
   "codemirror_mode": {
    "name": "ipython",
    "version": 3
   },
   "file_extension": ".py",
   "mimetype": "text/x-python",
   "name": "python",
   "nbconvert_exporter": "python",
   "pygments_lexer": "ipython3",
   "version": "3.9.15"
  }
 },
 "nbformat": 4,
 "nbformat_minor": 5
}
